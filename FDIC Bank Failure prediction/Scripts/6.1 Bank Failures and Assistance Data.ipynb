{
 "cells": [
  {
   "cell_type": "markdown",
   "id": "94ae7174",
   "metadata": {},
   "source": [
    "# 6.1 Bank Failures and Assistance Data"
   ]
  },
  {
   "cell_type": "markdown",
   "id": "4cd5113d",
   "metadata": {},
   "source": [
    "#### Table of Contents"
   ]
  },
  {
   "cell_type": "markdown",
   "id": "90482c1d",
   "metadata": {},
   "source": [
    "### 1. Importing Libraries & Data"
   ]
  },
  {
   "cell_type": "markdown",
   "id": "9f0c3031",
   "metadata": {},
   "source": [
    "### 2. DataFrame Information"
   ]
  },
  {
   "cell_type": "markdown",
   "id": "5bcf7177",
   "metadata": {},
   "source": [
    "### 3. Data Wrangling & Cleaning"
   ]
  },
  {
   "cell_type": "markdown",
   "id": "39f474a4",
   "metadata": {},
   "source": [
    "### 4. Descriptive Statistics"
   ]
  },
  {
   "cell_type": "markdown",
   "id": "0546d222",
   "metadata": {},
   "source": [
    "### 5. Exporting Data"
   ]
  },
  {
   "cell_type": "markdown",
   "id": "1bb63da4",
   "metadata": {},
   "source": [
    "## 1. Importing Libraries & Data"
   ]
  },
  {
   "cell_type": "code",
   "execution_count": 1,
   "id": "0d004611",
   "metadata": {},
   "outputs": [],
   "source": [
    "# Import libraries\n",
    "import pandas as pd\n",
    "import numpy as np\n",
    "import os"
   ]
  },
  {
   "cell_type": "code",
   "execution_count": 2,
   "id": "65ffc34b",
   "metadata": {},
   "outputs": [],
   "source": [
    "#Pathway to the Dataframes\n",
    "path = r'C:\\Users\\Dallas\\Desktop\\Data Analyst - Projects\\Data Immersion\\Data Immersion A6\\FDIC Bank Failure prediction'"
   ]
  },
  {
   "cell_type": "code",
   "execution_count": 3,
   "id": "a3b1cab4",
   "metadata": {},
   "outputs": [],
   "source": [
    "df = pd.read_csv(os.path.join(path, 'Datasets', 'Original Data', 'DS8_BankSuite_Failures_1934-2023_DateFormat.csv'), index_col = False)"
   ]
  },
  {
   "cell_type": "markdown",
   "id": "7812ff92",
   "metadata": {},
   "source": [
    "## 2. DataFrame Information"
   ]
  },
  {
   "cell_type": "code",
   "execution_count": 4,
   "id": "ec00cd89",
   "metadata": {},
   "outputs": [
    {
     "data": {
      "text/plain": [
       "<bound method NDFrame.head of          CERT CHCLASS1               CITY STATE        COST    FAILDATE  \\\n",
       "0     59017.0       NM      SAN FRANCISCO    CA         NaN  2023-05-01   \n",
       "1     57053.0       NM           NEW YORK    NY   2400000.0  2023-03-12   \n",
       "2     24735.0       SM        SANTA CLARA    CA  16100000.0  2023-03-07   \n",
       "3     15426.0       NM             ALMENA    KS     16330.0  2020-10-23   \n",
       "4     16748.0       NM  FORT WALTON BEACH    FL      7247.0  2020-10-16   \n",
       "...       ...      ...                ...   ...         ...         ...   \n",
       "4102      NaN       NM          LEWISPORT    KY         NaN  1934-08-06   \n",
       "4103      NaN        N               LIMA    MT         NaN  1934-07-18   \n",
       "4104      NaN       NM           FLORENCE    IN         NaN  1934-07-18   \n",
       "4105      NaN       NM        EAST PEORIA    IL         NaN  1934-05-28   \n",
       "4106      NaN       NM         PITTSBURGH    PA         NaN  1934-04-19   \n",
       "\n",
       "        FIN    ID                         NAME     QBFASSET       QBFDEP  \\\n",
       "0     10543  4107          FIRST REPUBLIC BANK  212638872.0  176436706.0   \n",
       "1     10540  4106               SIGNATURE BANK  110363650.0   88612911.0   \n",
       "2     10539  4105          SILICON VALLEY BANK  209026000.0  175378000.0   \n",
       "3     10538  4104            ALMENA STATE BANK      65733.0      64941.0   \n",
       "4     10537  4103   FIRST CITY BANK OF FLORIDA     136566.0     133936.0   \n",
       "...     ...   ...                          ...          ...          ...   \n",
       "4102      0    65            BANK OF LEWISPORT         81.0         68.0   \n",
       "4103      0    63  FIRST NATIONAL BANK OF LIMA         91.0         42.0   \n",
       "4104      0    64        FLORENCE DEPOSIT BANK        105.0         69.0   \n",
       "4105      0    61        FON DU LAC STATE BANK        374.0        238.0   \n",
       "4106      0    62    BANK OF AMERICA TRUST CO.       1435.0       1064.0   \n",
       "\n",
       "      RESTYPE RESTYPE1 SAVR  \n",
       "0     FAILURE       PA  DIF  \n",
       "1     FAILURE       PA  DIF  \n",
       "2     FAILURE       PA  DIF  \n",
       "3     FAILURE       PA  DIF  \n",
       "4     FAILURE       PA  DIF  \n",
       "...       ...      ...  ...  \n",
       "4102  FAILURE       PO  BIF  \n",
       "4103  FAILURE       PO  BIF  \n",
       "4104  FAILURE       PO  BIF  \n",
       "4105  FAILURE       PO  BIF  \n",
       "4106  FAILURE       PO  BIF  \n",
       "\n",
       "[4107 rows x 14 columns]>"
      ]
     },
     "execution_count": 4,
     "metadata": {},
     "output_type": "execute_result"
    }
   ],
   "source": [
    "#First five rows\n",
    "df.head"
   ]
  },
  {
   "cell_type": "code",
   "execution_count": 5,
   "id": "0cbd9e4b",
   "metadata": {},
   "outputs": [
    {
     "data": {
      "text/plain": [
       "(4107, 14)"
      ]
     },
     "execution_count": 5,
     "metadata": {},
     "output_type": "execute_result"
    }
   ],
   "source": [
    "#Number of rows and columns\n",
    "df.shape"
   ]
  },
  {
   "cell_type": "code",
   "execution_count": 6,
   "id": "1452155d",
   "metadata": {},
   "outputs": [
    {
     "name": "stdout",
     "output_type": "stream",
     "text": [
      "<class 'pandas.core.frame.DataFrame'>\n",
      "RangeIndex: 4107 entries, 0 to 4106\n",
      "Data columns (total 14 columns):\n",
      " #   Column    Non-Null Count  Dtype  \n",
      "---  ------    --------------  -----  \n",
      " 0   CERT      3619 non-null   float64\n",
      " 1   CHCLASS1  4107 non-null   object \n",
      " 2   CITY      4107 non-null   object \n",
      " 3   STATE     4107 non-null   object \n",
      " 4   COST      3468 non-null   float64\n",
      " 5   FAILDATE  4107 non-null   object \n",
      " 6   FIN       4107 non-null   int64  \n",
      " 7   ID        4107 non-null   int64  \n",
      " 8   NAME      4107 non-null   object \n",
      " 9   QBFASSET  3953 non-null   float64\n",
      " 10  QBFDEP    4105 non-null   float64\n",
      " 11  RESTYPE   4107 non-null   object \n",
      " 12  RESTYPE1  4107 non-null   object \n",
      " 13  SAVR      4107 non-null   object \n",
      "dtypes: float64(4), int64(2), object(8)\n",
      "memory usage: 449.3+ KB\n"
     ]
    }
   ],
   "source": [
    "#Basic information of the dataset\n",
    "df.info()"
   ]
  },
  {
   "cell_type": "code",
   "execution_count": 7,
   "id": "b001755f",
   "metadata": {},
   "outputs": [
    {
     "data": {
      "text/plain": [
       "Index(['CERT', 'CHCLASS1', 'CITY', 'STATE', 'COST', 'FAILDATE', 'FIN', 'ID',\n",
       "       'NAME', 'QBFASSET', 'QBFDEP', 'RESTYPE', 'RESTYPE1', 'SAVR'],\n",
       "      dtype='object')"
      ]
     },
     "execution_count": 7,
     "metadata": {},
     "output_type": "execute_result"
    }
   ],
   "source": [
    "#Names of the columns in the dataset\n",
    "df.columns"
   ]
  },
  {
   "cell_type": "markdown",
   "id": "cdcad0a7",
   "metadata": {},
   "source": [
    "## 3. Data Wrangling & Cleaning"
   ]
  },
  {
   "cell_type": "markdown",
   "id": "72d935af",
   "metadata": {},
   "source": [
    "##### Data Wrangling"
   ]
  },
  {
   "cell_type": "code",
   "execution_count": 8,
   "id": "1868d1e4",
   "metadata": {},
   "outputs": [],
   "source": [
    "#Create new dataFrame\n",
    "df_wrangled = df"
   ]
  },
  {
   "cell_type": "code",
   "execution_count": 9,
   "id": "bfe74bc5",
   "metadata": {},
   "outputs": [
    {
     "name": "stdout",
     "output_type": "stream",
     "text": [
      "<class 'pandas.core.frame.DataFrame'>\n",
      "RangeIndex: 4107 entries, 0 to 4106\n",
      "Data columns (total 14 columns):\n",
      " #   Column    Non-Null Count  Dtype  \n",
      "---  ------    --------------  -----  \n",
      " 0   CERT      3619 non-null   float64\n",
      " 1   CHCLASS1  4107 non-null   object \n",
      " 2   CITY      4107 non-null   object \n",
      " 3   STATE     4107 non-null   object \n",
      " 4   COST      3468 non-null   float64\n",
      " 5   FAILDATE  4107 non-null   object \n",
      " 6   FIN       4107 non-null   int64  \n",
      " 7   ID        4107 non-null   int64  \n",
      " 8   NAME      4107 non-null   object \n",
      " 9   QBFASSET  3953 non-null   float64\n",
      " 10  QBFDEP    4105 non-null   float64\n",
      " 11  RESTYPE   4107 non-null   object \n",
      " 12  RESTYPE1  4107 non-null   object \n",
      " 13  SAVR      4107 non-null   object \n",
      "dtypes: float64(4), int64(2), object(8)\n",
      "memory usage: 449.3+ KB\n"
     ]
    }
   ],
   "source": [
    "#Information of new DataFrame\n",
    "df_wrangled.info()"
   ]
  },
  {
   "cell_type": "code",
   "execution_count": 10,
   "id": "e7225190",
   "metadata": {},
   "outputs": [],
   "source": [
    "#Renaming Column Names\n",
    "df_wrangled.rename(columns = {'CERT' : 'Certification'}, inplace = True)\n",
    "df_wrangled.rename(columns = {'CHCLASS1' : 'Charter Class'}, inplace = True)\n",
    "df_wrangled.rename(columns = {'CITY' : 'City'}, inplace = True)\n",
    "df_wrangled.rename(columns = {'STATE' : 'State'}, inplace = True)\n",
    "df_wrangled.rename(columns = {'COST' : 'Estimated Loss'}, inplace = True)\n",
    "df_wrangled.rename(columns = {'FAILDATE' : 'Failure Date'}, inplace = True)\n",
    "df_wrangled.rename(columns = {'NAME' : 'Bank Name'}, inplace = True)\n",
    "df_wrangled.rename(columns = {'QBFASSET' : 'Total Assets'}, inplace = True)\n",
    "df_wrangled.rename(columns = {'QBFDEP' : 'Total Deposits'}, inplace = True)\n",
    "df_wrangled.rename(columns = {'RESTYPE' : 'Resolution'}, inplace = True)\n",
    "df_wrangled.rename(columns = {'RESTYPE1' : 'Transaction Type'}, inplace = True)\n",
    "df_wrangled.rename(columns = {'SAVR' : 'Insurance Fund'}, inplace = True)"
   ]
  },
  {
   "cell_type": "code",
   "execution_count": 11,
   "id": "81426dc9",
   "metadata": {},
   "outputs": [
    {
     "name": "stdout",
     "output_type": "stream",
     "text": [
      "<class 'pandas.core.frame.DataFrame'>\n",
      "RangeIndex: 4107 entries, 0 to 4106\n",
      "Data columns (total 14 columns):\n",
      " #   Column            Non-Null Count  Dtype  \n",
      "---  ------            --------------  -----  \n",
      " 0   Certification     3619 non-null   float64\n",
      " 1   Charter Class     4107 non-null   object \n",
      " 2   City              4107 non-null   object \n",
      " 3   State             4107 non-null   object \n",
      " 4   Estimated Loss    3468 non-null   float64\n",
      " 5   Failure Date      4107 non-null   object \n",
      " 6   FIN               4107 non-null   int64  \n",
      " 7   ID                4107 non-null   int64  \n",
      " 8   Bank Name         4107 non-null   object \n",
      " 9   Total Assets      3953 non-null   float64\n",
      " 10  Total Deposits    4105 non-null   float64\n",
      " 11  Resolution        4107 non-null   object \n",
      " 12  Transaction Type  4107 non-null   object \n",
      " 13  Insurance Fund    4107 non-null   object \n",
      "dtypes: float64(4), int64(2), object(8)\n",
      "memory usage: 449.3+ KB\n"
     ]
    }
   ],
   "source": [
    "#Check to ensure new names corrected\n",
    "df_wrangled.info()"
   ]
  },
  {
   "cell_type": "code",
   "execution_count": 12,
   "id": "acb9449f",
   "metadata": {},
   "outputs": [],
   "source": [
    "#Changing datatypes\n",
    "df_wrangled['Certification'] = df_wrangled['Certification'].astype('str')\n",
    "df_wrangled['FIN'] = df_wrangled['FIN'].astype('str')\n",
    "df_wrangled['ID'] = df_wrangled['ID'].astype('str')"
   ]
  },
  {
   "cell_type": "code",
   "execution_count": 13,
   "id": "9e4f2d4c",
   "metadata": {},
   "outputs": [
    {
     "data": {
      "text/plain": [
       "Certification        object\n",
       "Charter Class        object\n",
       "City                 object\n",
       "State                object\n",
       "Estimated Loss      float64\n",
       "Failure Date         object\n",
       "FIN                  object\n",
       "ID                   object\n",
       "Bank Name            object\n",
       "Total Assets        float64\n",
       "Total Deposits      float64\n",
       "Resolution           object\n",
       "Transaction Type     object\n",
       "Insurance Fund       object\n",
       "dtype: object"
      ]
     },
     "execution_count": 13,
     "metadata": {},
     "output_type": "execute_result"
    }
   ],
   "source": [
    "#Checking Datatypes\n",
    "df_wrangled.dtypes"
   ]
  },
  {
   "cell_type": "code",
   "execution_count": 14,
   "id": "be2503a4",
   "metadata": {},
   "outputs": [
    {
     "data": {
      "text/html": [
       "<div>\n",
       "<style scoped>\n",
       "    .dataframe tbody tr th:only-of-type {\n",
       "        vertical-align: middle;\n",
       "    }\n",
       "\n",
       "    .dataframe tbody tr th {\n",
       "        vertical-align: top;\n",
       "    }\n",
       "\n",
       "    .dataframe thead th {\n",
       "        text-align: right;\n",
       "    }\n",
       "</style>\n",
       "<table border=\"1\" class=\"dataframe\">\n",
       "  <thead>\n",
       "    <tr style=\"text-align: right;\">\n",
       "      <th></th>\n",
       "      <th>Certification</th>\n",
       "      <th>Charter Class</th>\n",
       "      <th>City</th>\n",
       "      <th>State</th>\n",
       "      <th>Estimated Loss</th>\n",
       "      <th>Failure Date</th>\n",
       "      <th>FIN</th>\n",
       "      <th>ID</th>\n",
       "      <th>Bank Name</th>\n",
       "      <th>Total Assets</th>\n",
       "      <th>Total Deposits</th>\n",
       "      <th>Resolution</th>\n",
       "      <th>Transaction Type</th>\n",
       "      <th>Insurance Fund</th>\n",
       "    </tr>\n",
       "  </thead>\n",
       "  <tbody>\n",
       "    <tr>\n",
       "      <th>0</th>\n",
       "      <td>59017.0</td>\n",
       "      <td>NM</td>\n",
       "      <td>SAN FRANCISCO</td>\n",
       "      <td>CA</td>\n",
       "      <td>NaN</td>\n",
       "      <td>2023-05-01</td>\n",
       "      <td>10543</td>\n",
       "      <td>4107</td>\n",
       "      <td>FIRST REPUBLIC BANK</td>\n",
       "      <td>212638872.0</td>\n",
       "      <td>176436706.0</td>\n",
       "      <td>FAILURE</td>\n",
       "      <td>PA</td>\n",
       "      <td>DIF</td>\n",
       "    </tr>\n",
       "    <tr>\n",
       "      <th>1</th>\n",
       "      <td>57053.0</td>\n",
       "      <td>NM</td>\n",
       "      <td>NEW YORK</td>\n",
       "      <td>NY</td>\n",
       "      <td>2400000.0</td>\n",
       "      <td>2023-03-12</td>\n",
       "      <td>10540</td>\n",
       "      <td>4106</td>\n",
       "      <td>SIGNATURE BANK</td>\n",
       "      <td>110363650.0</td>\n",
       "      <td>88612911.0</td>\n",
       "      <td>FAILURE</td>\n",
       "      <td>PA</td>\n",
       "      <td>DIF</td>\n",
       "    </tr>\n",
       "    <tr>\n",
       "      <th>2</th>\n",
       "      <td>24735.0</td>\n",
       "      <td>SM</td>\n",
       "      <td>SANTA CLARA</td>\n",
       "      <td>CA</td>\n",
       "      <td>16100000.0</td>\n",
       "      <td>2023-03-07</td>\n",
       "      <td>10539</td>\n",
       "      <td>4105</td>\n",
       "      <td>SILICON VALLEY BANK</td>\n",
       "      <td>209026000.0</td>\n",
       "      <td>175378000.0</td>\n",
       "      <td>FAILURE</td>\n",
       "      <td>PA</td>\n",
       "      <td>DIF</td>\n",
       "    </tr>\n",
       "    <tr>\n",
       "      <th>3</th>\n",
       "      <td>15426.0</td>\n",
       "      <td>NM</td>\n",
       "      <td>ALMENA</td>\n",
       "      <td>KS</td>\n",
       "      <td>16330.0</td>\n",
       "      <td>2020-10-23</td>\n",
       "      <td>10538</td>\n",
       "      <td>4104</td>\n",
       "      <td>ALMENA STATE BANK</td>\n",
       "      <td>65733.0</td>\n",
       "      <td>64941.0</td>\n",
       "      <td>FAILURE</td>\n",
       "      <td>PA</td>\n",
       "      <td>DIF</td>\n",
       "    </tr>\n",
       "    <tr>\n",
       "      <th>4</th>\n",
       "      <td>16748.0</td>\n",
       "      <td>NM</td>\n",
       "      <td>FORT WALTON BEACH</td>\n",
       "      <td>FL</td>\n",
       "      <td>7247.0</td>\n",
       "      <td>2020-10-16</td>\n",
       "      <td>10537</td>\n",
       "      <td>4103</td>\n",
       "      <td>FIRST CITY BANK OF FLORIDA</td>\n",
       "      <td>136566.0</td>\n",
       "      <td>133936.0</td>\n",
       "      <td>FAILURE</td>\n",
       "      <td>PA</td>\n",
       "      <td>DIF</td>\n",
       "    </tr>\n",
       "  </tbody>\n",
       "</table>\n",
       "</div>"
      ],
      "text/plain": [
       "  Certification Charter Class               City State  Estimated Loss  \\\n",
       "0       59017.0            NM      SAN FRANCISCO    CA             NaN   \n",
       "1       57053.0            NM           NEW YORK    NY       2400000.0   \n",
       "2       24735.0            SM        SANTA CLARA    CA      16100000.0   \n",
       "3       15426.0            NM             ALMENA    KS         16330.0   \n",
       "4       16748.0            NM  FORT WALTON BEACH    FL          7247.0   \n",
       "\n",
       "  Failure Date    FIN    ID                   Bank Name  Total Assets  \\\n",
       "0   2023-05-01  10543  4107         FIRST REPUBLIC BANK   212638872.0   \n",
       "1   2023-03-12  10540  4106              SIGNATURE BANK   110363650.0   \n",
       "2   2023-03-07  10539  4105         SILICON VALLEY BANK   209026000.0   \n",
       "3   2020-10-23  10538  4104           ALMENA STATE BANK       65733.0   \n",
       "4   2020-10-16  10537  4103  FIRST CITY BANK OF FLORIDA      136566.0   \n",
       "\n",
       "   Total Deposits Resolution Transaction Type Insurance Fund  \n",
       "0     176436706.0    FAILURE               PA            DIF  \n",
       "1      88612911.0    FAILURE               PA            DIF  \n",
       "2     175378000.0    FAILURE               PA            DIF  \n",
       "3         64941.0    FAILURE               PA            DIF  \n",
       "4        133936.0    FAILURE               PA            DIF  "
      ]
     },
     "execution_count": 14,
     "metadata": {},
     "output_type": "execute_result"
    }
   ],
   "source": [
    "df_wrangled.head()"
   ]
  },
  {
   "cell_type": "markdown",
   "id": "ca3420cc",
   "metadata": {},
   "source": [
    "##### Data Cleaning"
   ]
  },
  {
   "cell_type": "code",
   "execution_count": 15,
   "id": "b74439ad",
   "metadata": {},
   "outputs": [],
   "source": [
    "#Finding Duplicate Values\n",
    "df_dups = df_wrangled[df_wrangled.duplicated()]"
   ]
  },
  {
   "cell_type": "code",
   "execution_count": 16,
   "id": "b26eca4a",
   "metadata": {},
   "outputs": [
    {
     "data": {
      "text/html": [
       "<div>\n",
       "<style scoped>\n",
       "    .dataframe tbody tr th:only-of-type {\n",
       "        vertical-align: middle;\n",
       "    }\n",
       "\n",
       "    .dataframe tbody tr th {\n",
       "        vertical-align: top;\n",
       "    }\n",
       "\n",
       "    .dataframe thead th {\n",
       "        text-align: right;\n",
       "    }\n",
       "</style>\n",
       "<table border=\"1\" class=\"dataframe\">\n",
       "  <thead>\n",
       "    <tr style=\"text-align: right;\">\n",
       "      <th></th>\n",
       "      <th>Certification</th>\n",
       "      <th>Charter Class</th>\n",
       "      <th>City</th>\n",
       "      <th>State</th>\n",
       "      <th>Estimated Loss</th>\n",
       "      <th>Failure Date</th>\n",
       "      <th>FIN</th>\n",
       "      <th>ID</th>\n",
       "      <th>Bank Name</th>\n",
       "      <th>Total Assets</th>\n",
       "      <th>Total Deposits</th>\n",
       "      <th>Resolution</th>\n",
       "      <th>Transaction Type</th>\n",
       "      <th>Insurance Fund</th>\n",
       "    </tr>\n",
       "  </thead>\n",
       "  <tbody>\n",
       "  </tbody>\n",
       "</table>\n",
       "</div>"
      ],
      "text/plain": [
       "Empty DataFrame\n",
       "Columns: [Certification, Charter Class, City, State, Estimated Loss, Failure Date, FIN, ID, Bank Name, Total Assets, Total Deposits, Resolution, Transaction Type, Insurance Fund]\n",
       "Index: []"
      ]
     },
     "execution_count": 16,
     "metadata": {},
     "output_type": "execute_result"
    }
   ],
   "source": [
    "#No Duplicates Found\n",
    "df_dups"
   ]
  },
  {
   "cell_type": "markdown",
   "id": "5d8cbe75",
   "metadata": {},
   "source": [
    "### Dataframe with missing values being left"
   ]
  },
  {
   "cell_type": "code",
   "execution_count": 17,
   "id": "2c04e676",
   "metadata": {},
   "outputs": [
    {
     "data": {
      "text/plain": [
       "Certification         0\n",
       "Charter Class         0\n",
       "City                  0\n",
       "State                 0\n",
       "Estimated Loss      639\n",
       "Failure Date          0\n",
       "FIN                   0\n",
       "ID                    0\n",
       "Bank Name             0\n",
       "Total Assets        154\n",
       "Total Deposits        2\n",
       "Resolution            0\n",
       "Transaction Type      0\n",
       "Insurance Fund        0\n",
       "dtype: int64"
      ]
     },
     "execution_count": 17,
     "metadata": {},
     "output_type": "execute_result"
    }
   ],
   "source": [
    "#Finding Missing Values\n",
    "df_wrangled.isnull().sum()"
   ]
  },
  {
   "cell_type": "markdown",
   "id": "dabb433e",
   "metadata": {},
   "source": [
    "### Subsets of Dataframe for missing values: Estimated Loss, Total Assets, Total Deposits"
   ]
  },
  {
   "cell_type": "code",
   "execution_count": 18,
   "id": "442382d3",
   "metadata": {},
   "outputs": [],
   "source": [
    "#Subset the missing values from Estimated Loss Column\n",
    "df_nan_loss = df_wrangled[df_wrangled['Estimated Loss'].isnull() == True]"
   ]
  },
  {
   "cell_type": "code",
   "execution_count": 19,
   "id": "1f73ffbf",
   "metadata": {},
   "outputs": [
    {
     "data": {
      "text/html": [
       "<div>\n",
       "<style scoped>\n",
       "    .dataframe tbody tr th:only-of-type {\n",
       "        vertical-align: middle;\n",
       "    }\n",
       "\n",
       "    .dataframe tbody tr th {\n",
       "        vertical-align: top;\n",
       "    }\n",
       "\n",
       "    .dataframe thead th {\n",
       "        text-align: right;\n",
       "    }\n",
       "</style>\n",
       "<table border=\"1\" class=\"dataframe\">\n",
       "  <thead>\n",
       "    <tr style=\"text-align: right;\">\n",
       "      <th></th>\n",
       "      <th>Certification</th>\n",
       "      <th>Charter Class</th>\n",
       "      <th>City</th>\n",
       "      <th>State</th>\n",
       "      <th>Estimated Loss</th>\n",
       "      <th>Failure Date</th>\n",
       "      <th>FIN</th>\n",
       "      <th>ID</th>\n",
       "      <th>Bank Name</th>\n",
       "      <th>Total Assets</th>\n",
       "      <th>Total Deposits</th>\n",
       "      <th>Resolution</th>\n",
       "      <th>Transaction Type</th>\n",
       "      <th>Insurance Fund</th>\n",
       "    </tr>\n",
       "  </thead>\n",
       "  <tbody>\n",
       "    <tr>\n",
       "      <th>0</th>\n",
       "      <td>59017.0</td>\n",
       "      <td>NM</td>\n",
       "      <td>SAN FRANCISCO</td>\n",
       "      <td>CA</td>\n",
       "      <td>NaN</td>\n",
       "      <td>2023-05-01</td>\n",
       "      <td>10543</td>\n",
       "      <td>4107</td>\n",
       "      <td>FIRST REPUBLIC BANK</td>\n",
       "      <td>2.126389e+08</td>\n",
       "      <td>176436706.0</td>\n",
       "      <td>FAILURE</td>\n",
       "      <td>PA</td>\n",
       "      <td>DIF</td>\n",
       "    </tr>\n",
       "    <tr>\n",
       "      <th>512</th>\n",
       "      <td>3510.0</td>\n",
       "      <td>N</td>\n",
       "      <td>CHARLOTTE</td>\n",
       "      <td>NC</td>\n",
       "      <td>NaN</td>\n",
       "      <td>2009-01-16</td>\n",
       "      <td>0</td>\n",
       "      <td>3586</td>\n",
       "      <td>BANK OF AMERICA N.A.</td>\n",
       "      <td>1.471631e+09</td>\n",
       "      <td>954677580.0</td>\n",
       "      <td>FAILURE</td>\n",
       "      <td>OBAM</td>\n",
       "      <td>DIF</td>\n",
       "    </tr>\n",
       "    <tr>\n",
       "      <th>514</th>\n",
       "      <td>25178.0</td>\n",
       "      <td>N</td>\n",
       "      <td>SAN FRANCISCO</td>\n",
       "      <td>CA</td>\n",
       "      <td>NaN</td>\n",
       "      <td>2009-01-16</td>\n",
       "      <td>0</td>\n",
       "      <td>3588</td>\n",
       "      <td>BANK OF AMERICA CALIFORNIA N.A.</td>\n",
       "      <td>2.150222e+07</td>\n",
       "      <td>500.0</td>\n",
       "      <td>FAILURE</td>\n",
       "      <td>OBAM</td>\n",
       "      <td>DIF</td>\n",
       "    </tr>\n",
       "    <tr>\n",
       "      <th>515</th>\n",
       "      <td>27374.0</td>\n",
       "      <td>NM</td>\n",
       "      <td>SALT LAKE CITY</td>\n",
       "      <td>UT</td>\n",
       "      <td>NaN</td>\n",
       "      <td>2009-01-16</td>\n",
       "      <td>0</td>\n",
       "      <td>3589</td>\n",
       "      <td>MERRILL LYNCH BANK USA</td>\n",
       "      <td>6.180950e+07</td>\n",
       "      <td>53620324.0</td>\n",
       "      <td>FAILURE</td>\n",
       "      <td>OBAM</td>\n",
       "      <td>DIF</td>\n",
       "    </tr>\n",
       "    <tr>\n",
       "      <th>516</th>\n",
       "      <td>33143.0</td>\n",
       "      <td>SB</td>\n",
       "      <td>ALEXANDRIA</td>\n",
       "      <td>VA</td>\n",
       "      <td>NaN</td>\n",
       "      <td>2009-01-16</td>\n",
       "      <td>0</td>\n",
       "      <td>3590</td>\n",
       "      <td>COUNTRYWIDE BANK FSB</td>\n",
       "      <td>1.179790e+08</td>\n",
       "      <td>43663251.0</td>\n",
       "      <td>FAILURE</td>\n",
       "      <td>OBAM</td>\n",
       "      <td>DIF</td>\n",
       "    </tr>\n",
       "    <tr>\n",
       "      <th>...</th>\n",
       "      <td>...</td>\n",
       "      <td>...</td>\n",
       "      <td>...</td>\n",
       "      <td>...</td>\n",
       "      <td>...</td>\n",
       "      <td>...</td>\n",
       "      <td>...</td>\n",
       "      <td>...</td>\n",
       "      <td>...</td>\n",
       "      <td>...</td>\n",
       "      <td>...</td>\n",
       "      <td>...</td>\n",
       "      <td>...</td>\n",
       "      <td>...</td>\n",
       "    </tr>\n",
       "    <tr>\n",
       "      <th>4102</th>\n",
       "      <td>nan</td>\n",
       "      <td>NM</td>\n",
       "      <td>LEWISPORT</td>\n",
       "      <td>KY</td>\n",
       "      <td>NaN</td>\n",
       "      <td>1934-08-06</td>\n",
       "      <td>0</td>\n",
       "      <td>65</td>\n",
       "      <td>BANK OF LEWISPORT</td>\n",
       "      <td>8.100000e+01</td>\n",
       "      <td>68.0</td>\n",
       "      <td>FAILURE</td>\n",
       "      <td>PO</td>\n",
       "      <td>BIF</td>\n",
       "    </tr>\n",
       "    <tr>\n",
       "      <th>4103</th>\n",
       "      <td>nan</td>\n",
       "      <td>N</td>\n",
       "      <td>LIMA</td>\n",
       "      <td>MT</td>\n",
       "      <td>NaN</td>\n",
       "      <td>1934-07-18</td>\n",
       "      <td>0</td>\n",
       "      <td>63</td>\n",
       "      <td>FIRST NATIONAL BANK OF LIMA</td>\n",
       "      <td>9.100000e+01</td>\n",
       "      <td>42.0</td>\n",
       "      <td>FAILURE</td>\n",
       "      <td>PO</td>\n",
       "      <td>BIF</td>\n",
       "    </tr>\n",
       "    <tr>\n",
       "      <th>4104</th>\n",
       "      <td>nan</td>\n",
       "      <td>NM</td>\n",
       "      <td>FLORENCE</td>\n",
       "      <td>IN</td>\n",
       "      <td>NaN</td>\n",
       "      <td>1934-07-18</td>\n",
       "      <td>0</td>\n",
       "      <td>64</td>\n",
       "      <td>FLORENCE DEPOSIT BANK</td>\n",
       "      <td>1.050000e+02</td>\n",
       "      <td>69.0</td>\n",
       "      <td>FAILURE</td>\n",
       "      <td>PO</td>\n",
       "      <td>BIF</td>\n",
       "    </tr>\n",
       "    <tr>\n",
       "      <th>4105</th>\n",
       "      <td>nan</td>\n",
       "      <td>NM</td>\n",
       "      <td>EAST PEORIA</td>\n",
       "      <td>IL</td>\n",
       "      <td>NaN</td>\n",
       "      <td>1934-05-28</td>\n",
       "      <td>0</td>\n",
       "      <td>61</td>\n",
       "      <td>FON DU LAC STATE BANK</td>\n",
       "      <td>3.740000e+02</td>\n",
       "      <td>238.0</td>\n",
       "      <td>FAILURE</td>\n",
       "      <td>PO</td>\n",
       "      <td>BIF</td>\n",
       "    </tr>\n",
       "    <tr>\n",
       "      <th>4106</th>\n",
       "      <td>nan</td>\n",
       "      <td>NM</td>\n",
       "      <td>PITTSBURGH</td>\n",
       "      <td>PA</td>\n",
       "      <td>NaN</td>\n",
       "      <td>1934-04-19</td>\n",
       "      <td>0</td>\n",
       "      <td>62</td>\n",
       "      <td>BANK OF AMERICA TRUST CO.</td>\n",
       "      <td>1.435000e+03</td>\n",
       "      <td>1064.0</td>\n",
       "      <td>FAILURE</td>\n",
       "      <td>PO</td>\n",
       "      <td>BIF</td>\n",
       "    </tr>\n",
       "  </tbody>\n",
       "</table>\n",
       "<p>639 rows × 14 columns</p>\n",
       "</div>"
      ],
      "text/plain": [
       "     Certification Charter Class            City State  Estimated Loss  \\\n",
       "0          59017.0            NM   SAN FRANCISCO    CA             NaN   \n",
       "512         3510.0             N       CHARLOTTE    NC             NaN   \n",
       "514        25178.0             N   SAN FRANCISCO    CA             NaN   \n",
       "515        27374.0            NM  SALT LAKE CITY    UT             NaN   \n",
       "516        33143.0            SB      ALEXANDRIA    VA             NaN   \n",
       "...            ...           ...             ...   ...             ...   \n",
       "4102           nan            NM       LEWISPORT    KY             NaN   \n",
       "4103           nan             N            LIMA    MT             NaN   \n",
       "4104           nan            NM        FLORENCE    IN             NaN   \n",
       "4105           nan            NM     EAST PEORIA    IL             NaN   \n",
       "4106           nan            NM      PITTSBURGH    PA             NaN   \n",
       "\n",
       "     Failure Date    FIN    ID                        Bank Name  Total Assets  \\\n",
       "0      2023-05-01  10543  4107              FIRST REPUBLIC BANK  2.126389e+08   \n",
       "512    2009-01-16      0  3586             BANK OF AMERICA N.A.  1.471631e+09   \n",
       "514    2009-01-16      0  3588  BANK OF AMERICA CALIFORNIA N.A.  2.150222e+07   \n",
       "515    2009-01-16      0  3589           MERRILL LYNCH BANK USA  6.180950e+07   \n",
       "516    2009-01-16      0  3590             COUNTRYWIDE BANK FSB  1.179790e+08   \n",
       "...           ...    ...   ...                              ...           ...   \n",
       "4102   1934-08-06      0    65                BANK OF LEWISPORT  8.100000e+01   \n",
       "4103   1934-07-18      0    63      FIRST NATIONAL BANK OF LIMA  9.100000e+01   \n",
       "4104   1934-07-18      0    64            FLORENCE DEPOSIT BANK  1.050000e+02   \n",
       "4105   1934-05-28      0    61            FON DU LAC STATE BANK  3.740000e+02   \n",
       "4106   1934-04-19      0    62        BANK OF AMERICA TRUST CO.  1.435000e+03   \n",
       "\n",
       "      Total Deposits Resolution Transaction Type Insurance Fund  \n",
       "0        176436706.0    FAILURE               PA            DIF  \n",
       "512      954677580.0    FAILURE             OBAM            DIF  \n",
       "514            500.0    FAILURE             OBAM            DIF  \n",
       "515       53620324.0    FAILURE             OBAM            DIF  \n",
       "516       43663251.0    FAILURE             OBAM            DIF  \n",
       "...              ...        ...              ...            ...  \n",
       "4102            68.0    FAILURE               PO            BIF  \n",
       "4103            42.0    FAILURE               PO            BIF  \n",
       "4104            69.0    FAILURE               PO            BIF  \n",
       "4105           238.0    FAILURE               PO            BIF  \n",
       "4106          1064.0    FAILURE               PO            BIF  \n",
       "\n",
       "[639 rows x 14 columns]"
      ]
     },
     "execution_count": 19,
     "metadata": {},
     "output_type": "execute_result"
    }
   ],
   "source": [
    "df_nan_loss"
   ]
  },
  {
   "cell_type": "code",
   "execution_count": 20,
   "id": "2104af21",
   "metadata": {},
   "outputs": [],
   "source": [
    "#Subset the missing values from Total Assets Column\n",
    "df_nan_assets = df_wrangled[df_wrangled['Total Assets'].isnull() == True]"
   ]
  },
  {
   "cell_type": "code",
   "execution_count": 21,
   "id": "e94bbddc",
   "metadata": {},
   "outputs": [
    {
     "data": {
      "text/html": [
       "<div>\n",
       "<style scoped>\n",
       "    .dataframe tbody tr th:only-of-type {\n",
       "        vertical-align: middle;\n",
       "    }\n",
       "\n",
       "    .dataframe tbody tr th {\n",
       "        vertical-align: top;\n",
       "    }\n",
       "\n",
       "    .dataframe thead th {\n",
       "        text-align: right;\n",
       "    }\n",
       "</style>\n",
       "<table border=\"1\" class=\"dataframe\">\n",
       "  <thead>\n",
       "    <tr style=\"text-align: right;\">\n",
       "      <th></th>\n",
       "      <th>Certification</th>\n",
       "      <th>Charter Class</th>\n",
       "      <th>City</th>\n",
       "      <th>State</th>\n",
       "      <th>Estimated Loss</th>\n",
       "      <th>Failure Date</th>\n",
       "      <th>FIN</th>\n",
       "      <th>ID</th>\n",
       "      <th>Bank Name</th>\n",
       "      <th>Total Assets</th>\n",
       "      <th>Total Deposits</th>\n",
       "      <th>Resolution</th>\n",
       "      <th>Transaction Type</th>\n",
       "      <th>Insurance Fund</th>\n",
       "    </tr>\n",
       "  </thead>\n",
       "  <tbody>\n",
       "    <tr>\n",
       "      <th>3493</th>\n",
       "      <td>30387.0</td>\n",
       "      <td>SL</td>\n",
       "      <td>SANTURCE</td>\n",
       "      <td>PR</td>\n",
       "      <td>NaN</td>\n",
       "      <td>1981-11-20</td>\n",
       "      <td>0</td>\n",
       "      <td>613</td>\n",
       "      <td>FIRST FS&amp;LA OF PUERTO RICO</td>\n",
       "      <td>NaN</td>\n",
       "      <td>NaN</td>\n",
       "      <td>ASSISTANCE</td>\n",
       "      <td>A/A</td>\n",
       "      <td>FSLIC</td>\n",
       "    </tr>\n",
       "    <tr>\n",
       "      <th>3580</th>\n",
       "      <td>nan</td>\n",
       "      <td>NM</td>\n",
       "      <td>WILMINGTON</td>\n",
       "      <td>DE</td>\n",
       "      <td>NaN</td>\n",
       "      <td>1976-03-15</td>\n",
       "      <td>11653</td>\n",
       "      <td>523</td>\n",
       "      <td>FARMERS BANK OF THE STATE OF DELAWARE</td>\n",
       "      <td>NaN</td>\n",
       "      <td>370000.0</td>\n",
       "      <td>ASSISTANCE</td>\n",
       "      <td>A/A</td>\n",
       "      <td>BIF</td>\n",
       "    </tr>\n",
       "    <tr>\n",
       "      <th>3612</th>\n",
       "      <td>nan</td>\n",
       "      <td>NM</td>\n",
       "      <td>BOSTON (ROXBURY)</td>\n",
       "      <td>MA</td>\n",
       "      <td>NaN</td>\n",
       "      <td>1971-07-27</td>\n",
       "      <td>0</td>\n",
       "      <td>491</td>\n",
       "      <td>UNITY BANK &amp; TRUST COMPANY</td>\n",
       "      <td>NaN</td>\n",
       "      <td>9300.0</td>\n",
       "      <td>ASSISTANCE</td>\n",
       "      <td>A/A</td>\n",
       "      <td>BIF</td>\n",
       "    </tr>\n",
       "    <tr>\n",
       "      <th>3661</th>\n",
       "      <td>nan</td>\n",
       "      <td>N</td>\n",
       "      <td>EXETER</td>\n",
       "      <td>PA</td>\n",
       "      <td>NaN</td>\n",
       "      <td>1962-02-19</td>\n",
       "      <td>0</td>\n",
       "      <td>446</td>\n",
       "      <td>THE FIRST NATIONAL BANK OF EXETER</td>\n",
       "      <td>NaN</td>\n",
       "      <td>3011.0</td>\n",
       "      <td>FAILURE</td>\n",
       "      <td>P&amp;A</td>\n",
       "      <td>BIF</td>\n",
       "    </tr>\n",
       "    <tr>\n",
       "      <th>3717</th>\n",
       "      <td>nan</td>\n",
       "      <td>NM</td>\n",
       "      <td>MT. CARMEL</td>\n",
       "      <td>PA</td>\n",
       "      <td>NaN</td>\n",
       "      <td>1942-11-28</td>\n",
       "      <td>0</td>\n",
       "      <td>390</td>\n",
       "      <td>GUARANTEE TR &amp; SAFE DEP. CO.-MT.CARMEL</td>\n",
       "      <td>NaN</td>\n",
       "      <td>1123.0</td>\n",
       "      <td>FAILURE</td>\n",
       "      <td>P&amp;A</td>\n",
       "      <td>BIF</td>\n",
       "    </tr>\n",
       "    <tr>\n",
       "      <th>...</th>\n",
       "      <td>...</td>\n",
       "      <td>...</td>\n",
       "      <td>...</td>\n",
       "      <td>...</td>\n",
       "      <td>...</td>\n",
       "      <td>...</td>\n",
       "      <td>...</td>\n",
       "      <td>...</td>\n",
       "      <td>...</td>\n",
       "      <td>...</td>\n",
       "      <td>...</td>\n",
       "      <td>...</td>\n",
       "      <td>...</td>\n",
       "      <td>...</td>\n",
       "    </tr>\n",
       "    <tr>\n",
       "      <th>4066</th>\n",
       "      <td>nan</td>\n",
       "      <td>SM</td>\n",
       "      <td>ANN ARBOR</td>\n",
       "      <td>MI</td>\n",
       "      <td>NaN</td>\n",
       "      <td>1936-02-15</td>\n",
       "      <td>0</td>\n",
       "      <td>27</td>\n",
       "      <td>FARMERS &amp; MECHANICS BANK</td>\n",
       "      <td>NaN</td>\n",
       "      <td>3734.0</td>\n",
       "      <td>FAILURE</td>\n",
       "      <td>P&amp;A</td>\n",
       "      <td>BIF</td>\n",
       "    </tr>\n",
       "    <tr>\n",
       "      <th>4067</th>\n",
       "      <td>nan</td>\n",
       "      <td>NM</td>\n",
       "      <td>ANN ARBOR</td>\n",
       "      <td>MI</td>\n",
       "      <td>NaN</td>\n",
       "      <td>1936-02-15</td>\n",
       "      <td>0</td>\n",
       "      <td>28</td>\n",
       "      <td>THE ANN ARBOR SAVINGS BANK</td>\n",
       "      <td>NaN</td>\n",
       "      <td>6758.0</td>\n",
       "      <td>FAILURE</td>\n",
       "      <td>P&amp;A</td>\n",
       "      <td>BIF</td>\n",
       "    </tr>\n",
       "    <tr>\n",
       "      <th>4068</th>\n",
       "      <td>nan</td>\n",
       "      <td>N</td>\n",
       "      <td>ANN ARBOR</td>\n",
       "      <td>MI</td>\n",
       "      <td>NaN</td>\n",
       "      <td>1936-02-15</td>\n",
       "      <td>0</td>\n",
       "      <td>29</td>\n",
       "      <td>THE FIRST NATIONAL BANK &amp; TRUST CO.</td>\n",
       "      <td>NaN</td>\n",
       "      <td>1729.0</td>\n",
       "      <td>FAILURE</td>\n",
       "      <td>P&amp;A</td>\n",
       "      <td>BIF</td>\n",
       "    </tr>\n",
       "    <tr>\n",
       "      <th>4070</th>\n",
       "      <td>nan</td>\n",
       "      <td>N</td>\n",
       "      <td>CLINTON</td>\n",
       "      <td>OK</td>\n",
       "      <td>NaN</td>\n",
       "      <td>1936-02-01</td>\n",
       "      <td>0</td>\n",
       "      <td>25</td>\n",
       "      <td>THE FIRST NATIONAL BANK OF CLINTON</td>\n",
       "      <td>NaN</td>\n",
       "      <td>437.0</td>\n",
       "      <td>FAILURE</td>\n",
       "      <td>P&amp;A</td>\n",
       "      <td>BIF</td>\n",
       "    </tr>\n",
       "    <tr>\n",
       "      <th>4080</th>\n",
       "      <td>nan</td>\n",
       "      <td>NM</td>\n",
       "      <td>BETHLEHEM</td>\n",
       "      <td>PA</td>\n",
       "      <td>NaN</td>\n",
       "      <td>1935-11-16</td>\n",
       "      <td>0</td>\n",
       "      <td>15</td>\n",
       "      <td>E. P. WILBUR TRUST COMPANY</td>\n",
       "      <td>NaN</td>\n",
       "      <td>4357.0</td>\n",
       "      <td>FAILURE</td>\n",
       "      <td>P&amp;A</td>\n",
       "      <td>BIF</td>\n",
       "    </tr>\n",
       "  </tbody>\n",
       "</table>\n",
       "<p>154 rows × 14 columns</p>\n",
       "</div>"
      ],
      "text/plain": [
       "     Certification Charter Class              City State  Estimated Loss  \\\n",
       "3493       30387.0            SL          SANTURCE    PR             NaN   \n",
       "3580           nan            NM        WILMINGTON    DE             NaN   \n",
       "3612           nan            NM  BOSTON (ROXBURY)    MA             NaN   \n",
       "3661           nan             N            EXETER    PA             NaN   \n",
       "3717           nan            NM        MT. CARMEL    PA             NaN   \n",
       "...            ...           ...               ...   ...             ...   \n",
       "4066           nan            SM         ANN ARBOR    MI             NaN   \n",
       "4067           nan            NM         ANN ARBOR    MI             NaN   \n",
       "4068           nan             N         ANN ARBOR    MI             NaN   \n",
       "4070           nan             N           CLINTON    OK             NaN   \n",
       "4080           nan            NM         BETHLEHEM    PA             NaN   \n",
       "\n",
       "     Failure Date    FIN   ID                               Bank Name  \\\n",
       "3493   1981-11-20      0  613              FIRST FS&LA OF PUERTO RICO   \n",
       "3580   1976-03-15  11653  523   FARMERS BANK OF THE STATE OF DELAWARE   \n",
       "3612   1971-07-27      0  491              UNITY BANK & TRUST COMPANY   \n",
       "3661   1962-02-19      0  446       THE FIRST NATIONAL BANK OF EXETER   \n",
       "3717   1942-11-28      0  390  GUARANTEE TR & SAFE DEP. CO.-MT.CARMEL   \n",
       "...           ...    ...  ...                                     ...   \n",
       "4066   1936-02-15      0   27                FARMERS & MECHANICS BANK   \n",
       "4067   1936-02-15      0   28              THE ANN ARBOR SAVINGS BANK   \n",
       "4068   1936-02-15      0   29     THE FIRST NATIONAL BANK & TRUST CO.   \n",
       "4070   1936-02-01      0   25      THE FIRST NATIONAL BANK OF CLINTON   \n",
       "4080   1935-11-16      0   15              E. P. WILBUR TRUST COMPANY   \n",
       "\n",
       "      Total Assets  Total Deposits  Resolution Transaction Type Insurance Fund  \n",
       "3493           NaN             NaN  ASSISTANCE              A/A          FSLIC  \n",
       "3580           NaN        370000.0  ASSISTANCE              A/A            BIF  \n",
       "3612           NaN          9300.0  ASSISTANCE              A/A            BIF  \n",
       "3661           NaN          3011.0     FAILURE              P&A            BIF  \n",
       "3717           NaN          1123.0     FAILURE              P&A            BIF  \n",
       "...            ...             ...         ...              ...            ...  \n",
       "4066           NaN          3734.0     FAILURE              P&A            BIF  \n",
       "4067           NaN          6758.0     FAILURE              P&A            BIF  \n",
       "4068           NaN          1729.0     FAILURE              P&A            BIF  \n",
       "4070           NaN           437.0     FAILURE              P&A            BIF  \n",
       "4080           NaN          4357.0     FAILURE              P&A            BIF  \n",
       "\n",
       "[154 rows x 14 columns]"
      ]
     },
     "execution_count": 21,
     "metadata": {},
     "output_type": "execute_result"
    }
   ],
   "source": [
    "df_nan_assets"
   ]
  },
  {
   "cell_type": "code",
   "execution_count": 22,
   "id": "083b3579",
   "metadata": {},
   "outputs": [],
   "source": [
    "#Subset the missing values from Total Deposits Column\n",
    "df_nan_deposits = df_wrangled[df_wrangled['Total Deposits'].isnull() == True]"
   ]
  },
  {
   "cell_type": "code",
   "execution_count": 23,
   "id": "ac699ecd",
   "metadata": {},
   "outputs": [
    {
     "data": {
      "text/html": [
       "<div>\n",
       "<style scoped>\n",
       "    .dataframe tbody tr th:only-of-type {\n",
       "        vertical-align: middle;\n",
       "    }\n",
       "\n",
       "    .dataframe tbody tr th {\n",
       "        vertical-align: top;\n",
       "    }\n",
       "\n",
       "    .dataframe thead th {\n",
       "        text-align: right;\n",
       "    }\n",
       "</style>\n",
       "<table border=\"1\" class=\"dataframe\">\n",
       "  <thead>\n",
       "    <tr style=\"text-align: right;\">\n",
       "      <th></th>\n",
       "      <th>Certification</th>\n",
       "      <th>Charter Class</th>\n",
       "      <th>City</th>\n",
       "      <th>State</th>\n",
       "      <th>Estimated Loss</th>\n",
       "      <th>Failure Date</th>\n",
       "      <th>FIN</th>\n",
       "      <th>ID</th>\n",
       "      <th>Bank Name</th>\n",
       "      <th>Total Assets</th>\n",
       "      <th>Total Deposits</th>\n",
       "      <th>Resolution</th>\n",
       "      <th>Transaction Type</th>\n",
       "      <th>Insurance Fund</th>\n",
       "    </tr>\n",
       "  </thead>\n",
       "  <tbody>\n",
       "    <tr>\n",
       "      <th>3493</th>\n",
       "      <td>30387.0</td>\n",
       "      <td>SL</td>\n",
       "      <td>SANTURCE</td>\n",
       "      <td>PR</td>\n",
       "      <td>NaN</td>\n",
       "      <td>1981-11-20</td>\n",
       "      <td>0</td>\n",
       "      <td>613</td>\n",
       "      <td>FIRST FS&amp;LA OF PUERTO RICO</td>\n",
       "      <td>NaN</td>\n",
       "      <td>NaN</td>\n",
       "      <td>ASSISTANCE</td>\n",
       "      <td>A/A</td>\n",
       "      <td>FSLIC</td>\n",
       "    </tr>\n",
       "    <tr>\n",
       "      <th>3609</th>\n",
       "      <td>nan</td>\n",
       "      <td>SM</td>\n",
       "      <td>DETROIT</td>\n",
       "      <td>MI</td>\n",
       "      <td>NaN</td>\n",
       "      <td>1972-01-18</td>\n",
       "      <td>12894</td>\n",
       "      <td>498</td>\n",
       "      <td>BANK OF THE COMMONWEALTH</td>\n",
       "      <td>1300000.0</td>\n",
       "      <td>NaN</td>\n",
       "      <td>ASSISTANCE</td>\n",
       "      <td>A/A</td>\n",
       "      <td>BIF</td>\n",
       "    </tr>\n",
       "  </tbody>\n",
       "</table>\n",
       "</div>"
      ],
      "text/plain": [
       "     Certification Charter Class      City State  Estimated Loss Failure Date  \\\n",
       "3493       30387.0            SL  SANTURCE    PR             NaN   1981-11-20   \n",
       "3609           nan            SM   DETROIT    MI             NaN   1972-01-18   \n",
       "\n",
       "        FIN   ID                   Bank Name  Total Assets  Total Deposits  \\\n",
       "3493      0  613  FIRST FS&LA OF PUERTO RICO           NaN             NaN   \n",
       "3609  12894  498    BANK OF THE COMMONWEALTH     1300000.0             NaN   \n",
       "\n",
       "      Resolution Transaction Type Insurance Fund  \n",
       "3493  ASSISTANCE              A/A          FSLIC  \n",
       "3609  ASSISTANCE              A/A            BIF  "
      ]
     },
     "execution_count": 23,
     "metadata": {},
     "output_type": "execute_result"
    }
   ],
   "source": [
    "df_nan_deposits"
   ]
  },
  {
   "cell_type": "markdown",
   "id": "e4373679",
   "metadata": {},
   "source": [
    "### Dataframe with all missing rows removed: Total of 639 rows"
   ]
  },
  {
   "cell_type": "code",
   "execution_count": 24,
   "id": "f4e18fcd",
   "metadata": {},
   "outputs": [],
   "source": [
    "#Remove all rows where the estimated loss is missing\n",
    "df_wrangled_clean = df_wrangled[df_wrangled['Estimated Loss'].isnull() == False]"
   ]
  },
  {
   "cell_type": "code",
   "execution_count": 25,
   "id": "ec699a8c",
   "metadata": {},
   "outputs": [
    {
     "data": {
      "text/plain": [
       "Certification       0\n",
       "Charter Class       0\n",
       "City                0\n",
       "State               0\n",
       "Estimated Loss      0\n",
       "Failure Date        0\n",
       "FIN                 0\n",
       "ID                  0\n",
       "Bank Name           0\n",
       "Total Assets        0\n",
       "Total Deposits      0\n",
       "Resolution          0\n",
       "Transaction Type    0\n",
       "Insurance Fund      0\n",
       "dtype: int64"
      ]
     },
     "execution_count": 25,
     "metadata": {},
     "output_type": "execute_result"
    }
   ],
   "source": [
    "#Check for missing rows\n",
    "df_wrangled_clean.isnull().sum()"
   ]
  },
  {
   "cell_type": "code",
   "execution_count": 26,
   "id": "ba968c6b",
   "metadata": {},
   "outputs": [
    {
     "data": {
      "text/plain": [
       "(3468, 14)"
      ]
     },
     "execution_count": 26,
     "metadata": {},
     "output_type": "execute_result"
    }
   ],
   "source": [
    "df_wrangled_clean.shape"
   ]
  },
  {
   "cell_type": "markdown",
   "id": "c5efd261",
   "metadata": {},
   "source": [
    "#### NOTE: Only the 'Estimated Loss' column was removed which removed all missing values.  This means that the missing values in the 'Total Assets' and 'Total Deposits' columns were subsets of the 'Estimated Loss' column.  In other words, any column that was missing Total Assets or Total Deposits was also missing Estimated Losses"
   ]
  },
  {
   "cell_type": "code",
   "execution_count": 27,
   "id": "147aeea6",
   "metadata": {},
   "outputs": [
    {
     "data": {
      "text/plain": [
       "(3468, 14)"
      ]
     },
     "execution_count": 27,
     "metadata": {},
     "output_type": "execute_result"
    }
   ],
   "source": [
    "#Size of new df_wrangled_clean dataframe; 639 rows removed or 15.56% of the df\n",
    "df_wrangled_clean.shape"
   ]
  },
  {
   "cell_type": "code",
   "execution_count": 28,
   "id": "21b91475",
   "metadata": {},
   "outputs": [
    {
     "data": {
      "text/plain": [
       "(4107, 14)"
      ]
     },
     "execution_count": 28,
     "metadata": {},
     "output_type": "execute_result"
    }
   ],
   "source": [
    "#Size of original dataframe\n",
    "df_wrangled.shape"
   ]
  },
  {
   "cell_type": "markdown",
   "id": "5de9ad04",
   "metadata": {},
   "source": [
    "### Dataframe with 'Estimated Loss' Column removed"
   ]
  },
  {
   "cell_type": "code",
   "execution_count": 29,
   "id": "be6b8a2e",
   "metadata": {},
   "outputs": [],
   "source": [
    "#Remove 'Estimated Loss' column\n",
    "df_wrangled_drop = df.drop(columns = ['Estimated Loss'])"
   ]
  },
  {
   "cell_type": "code",
   "execution_count": 30,
   "id": "5d390e0f",
   "metadata": {},
   "outputs": [
    {
     "data": {
      "text/plain": [
       "Certification         0\n",
       "Charter Class         0\n",
       "City                  0\n",
       "State                 0\n",
       "Failure Date          0\n",
       "FIN                   0\n",
       "ID                    0\n",
       "Bank Name             0\n",
       "Total Assets        154\n",
       "Total Deposits        2\n",
       "Resolution            0\n",
       "Transaction Type      0\n",
       "Insurance Fund        0\n",
       "dtype: int64"
      ]
     },
     "execution_count": 30,
     "metadata": {},
     "output_type": "execute_result"
    }
   ],
   "source": [
    "#Shape of df after removing the 'Estimated Loss' column\n",
    "df_wrangled_drop.isnull().sum()"
   ]
  },
  {
   "cell_type": "code",
   "execution_count": 31,
   "id": "dd687570",
   "metadata": {},
   "outputs": [],
   "source": [
    "#Remove all rows where the 'Total Assets' is missing\n",
    "df_wrangled_drop_remove = df_wrangled_drop[df_wrangled_drop['Total Assets'].isnull() == False]"
   ]
  },
  {
   "cell_type": "code",
   "execution_count": 32,
   "id": "45656d5c",
   "metadata": {},
   "outputs": [
    {
     "data": {
      "text/plain": [
       "Certification       0\n",
       "Charter Class       0\n",
       "City                0\n",
       "State               0\n",
       "Failure Date        0\n",
       "FIN                 0\n",
       "ID                  0\n",
       "Bank Name           0\n",
       "Total Assets        0\n",
       "Total Deposits      1\n",
       "Resolution          0\n",
       "Transaction Type    0\n",
       "Insurance Fund      0\n",
       "dtype: int64"
      ]
     },
     "execution_count": 32,
     "metadata": {},
     "output_type": "execute_result"
    }
   ],
   "source": [
    "#Missing rows in df with 'Estimated Loss' column removed and empty rows within 'Total Assets' removed\n",
    "df_wrangled_drop_remove.isnull().sum()"
   ]
  },
  {
   "cell_type": "code",
   "execution_count": 33,
   "id": "1a9cf5f1",
   "metadata": {},
   "outputs": [],
   "source": [
    "#Subset the missing values from Total Deposits Column\n",
    "df_nan_deposits_2 = df_wrangled_drop_remove[df_wrangled_drop_remove['Total Deposits'].isnull() == True]"
   ]
  },
  {
   "cell_type": "code",
   "execution_count": 34,
   "id": "8ea02aa9",
   "metadata": {},
   "outputs": [
    {
     "data": {
      "text/html": [
       "<div>\n",
       "<style scoped>\n",
       "    .dataframe tbody tr th:only-of-type {\n",
       "        vertical-align: middle;\n",
       "    }\n",
       "\n",
       "    .dataframe tbody tr th {\n",
       "        vertical-align: top;\n",
       "    }\n",
       "\n",
       "    .dataframe thead th {\n",
       "        text-align: right;\n",
       "    }\n",
       "</style>\n",
       "<table border=\"1\" class=\"dataframe\">\n",
       "  <thead>\n",
       "    <tr style=\"text-align: right;\">\n",
       "      <th></th>\n",
       "      <th>Certification</th>\n",
       "      <th>Charter Class</th>\n",
       "      <th>City</th>\n",
       "      <th>State</th>\n",
       "      <th>Failure Date</th>\n",
       "      <th>FIN</th>\n",
       "      <th>ID</th>\n",
       "      <th>Bank Name</th>\n",
       "      <th>Total Assets</th>\n",
       "      <th>Total Deposits</th>\n",
       "      <th>Resolution</th>\n",
       "      <th>Transaction Type</th>\n",
       "      <th>Insurance Fund</th>\n",
       "    </tr>\n",
       "  </thead>\n",
       "  <tbody>\n",
       "    <tr>\n",
       "      <th>3609</th>\n",
       "      <td>nan</td>\n",
       "      <td>SM</td>\n",
       "      <td>DETROIT</td>\n",
       "      <td>MI</td>\n",
       "      <td>1972-01-18</td>\n",
       "      <td>12894</td>\n",
       "      <td>498</td>\n",
       "      <td>BANK OF THE COMMONWEALTH</td>\n",
       "      <td>1300000.0</td>\n",
       "      <td>NaN</td>\n",
       "      <td>ASSISTANCE</td>\n",
       "      <td>A/A</td>\n",
       "      <td>BIF</td>\n",
       "    </tr>\n",
       "  </tbody>\n",
       "</table>\n",
       "</div>"
      ],
      "text/plain": [
       "     Certification Charter Class     City State Failure Date    FIN   ID  \\\n",
       "3609           nan            SM  DETROIT    MI   1972-01-18  12894  498   \n",
       "\n",
       "                     Bank Name  Total Assets  Total Deposits  Resolution  \\\n",
       "3609  BANK OF THE COMMONWEALTH     1300000.0             NaN  ASSISTANCE   \n",
       "\n",
       "     Transaction Type Insurance Fund  \n",
       "3609              A/A            BIF  "
      ]
     },
     "execution_count": 34,
     "metadata": {},
     "output_type": "execute_result"
    }
   ],
   "source": [
    "df_nan_deposits_2"
   ]
  },
  {
   "cell_type": "code",
   "execution_count": 35,
   "id": "5bf4aab4",
   "metadata": {},
   "outputs": [],
   "source": [
    "#Remove row in Total Deposits column \n",
    "df_clean = df_wrangled_drop_remove[df_wrangled_drop_remove['Total Deposits'].isnull() == False]"
   ]
  },
  {
   "cell_type": "code",
   "execution_count": 36,
   "id": "db9ab75f",
   "metadata": {},
   "outputs": [
    {
     "data": {
      "text/plain": [
       "Certification       0\n",
       "Charter Class       0\n",
       "City                0\n",
       "State               0\n",
       "Failure Date        0\n",
       "FIN                 0\n",
       "ID                  0\n",
       "Bank Name           0\n",
       "Total Assets        0\n",
       "Total Deposits      0\n",
       "Resolution          0\n",
       "Transaction Type    0\n",
       "Insurance Fund      0\n",
       "dtype: int64"
      ]
     },
     "execution_count": 36,
     "metadata": {},
     "output_type": "execute_result"
    }
   ],
   "source": [
    "df_clean.isnull().sum()"
   ]
  },
  {
   "cell_type": "code",
   "execution_count": 37,
   "id": "2253b676",
   "metadata": {},
   "outputs": [
    {
     "data": {
      "text/plain": [
       "(3952, 13)"
      ]
     },
     "execution_count": 37,
     "metadata": {},
     "output_type": "execute_result"
    }
   ],
   "source": [
    "#Shape of df with Estimated Los removed and empty rows removed\n",
    "df_clean.shape"
   ]
  },
  {
   "cell_type": "markdown",
   "id": "a49dbb32",
   "metadata": {},
   "source": [
    "## 4. Descriptive Statistics"
   ]
  },
  {
   "cell_type": "markdown",
   "id": "f6683a7d",
   "metadata": {},
   "source": [
    "### Descriptive Statistics for all three Dataframes: Original df, df with 639 rows removed and df with Estimated Loss column removed"
   ]
  },
  {
   "cell_type": "code",
   "execution_count": 38,
   "id": "9e16f14c",
   "metadata": {},
   "outputs": [
    {
     "data": {
      "text/html": [
       "<div>\n",
       "<style scoped>\n",
       "    .dataframe tbody tr th:only-of-type {\n",
       "        vertical-align: middle;\n",
       "    }\n",
       "\n",
       "    .dataframe tbody tr th {\n",
       "        vertical-align: top;\n",
       "    }\n",
       "\n",
       "    .dataframe thead th {\n",
       "        text-align: right;\n",
       "    }\n",
       "</style>\n",
       "<table border=\"1\" class=\"dataframe\">\n",
       "  <thead>\n",
       "    <tr style=\"text-align: right;\">\n",
       "      <th></th>\n",
       "      <th>Estimated Loss</th>\n",
       "      <th>Total Assets</th>\n",
       "      <th>Total Deposits</th>\n",
       "    </tr>\n",
       "  </thead>\n",
       "  <tbody>\n",
       "    <tr>\n",
       "      <th>count</th>\n",
       "      <td>3.468000e+03</td>\n",
       "      <td>3.953000e+03</td>\n",
       "      <td>4.105000e+03</td>\n",
       "    </tr>\n",
       "    <tr>\n",
       "      <th>mean</th>\n",
       "      <td>7.998170e+04</td>\n",
       "      <td>1.366788e+06</td>\n",
       "      <td>7.527356e+05</td>\n",
       "    </tr>\n",
       "    <tr>\n",
       "      <th>std</th>\n",
       "      <td>4.243630e+05</td>\n",
       "      <td>3.130100e+07</td>\n",
       "      <td>1.621481e+07</td>\n",
       "    </tr>\n",
       "    <tr>\n",
       "      <th>min</th>\n",
       "      <td>-1.138100e+04</td>\n",
       "      <td>1.400000e+01</td>\n",
       "      <td>0.000000e+00</td>\n",
       "    </tr>\n",
       "    <tr>\n",
       "      <th>25%</th>\n",
       "      <td>3.161000e+03</td>\n",
       "      <td>1.791900e+04</td>\n",
       "      <td>1.462800e+04</td>\n",
       "    </tr>\n",
       "    <tr>\n",
       "      <th>50%</th>\n",
       "      <td>1.130400e+04</td>\n",
       "      <td>5.544800e+04</td>\n",
       "      <td>4.950400e+04</td>\n",
       "    </tr>\n",
       "    <tr>\n",
       "      <th>75%</th>\n",
       "      <td>4.289825e+04</td>\n",
       "      <td>1.974420e+05</td>\n",
       "      <td>1.750100e+05</td>\n",
       "    </tr>\n",
       "    <tr>\n",
       "      <th>max</th>\n",
       "      <td>1.610000e+07</td>\n",
       "      <td>1.471631e+09</td>\n",
       "      <td>9.546776e+08</td>\n",
       "    </tr>\n",
       "  </tbody>\n",
       "</table>\n",
       "</div>"
      ],
      "text/plain": [
       "       Estimated Loss  Total Assets  Total Deposits\n",
       "count    3.468000e+03  3.953000e+03    4.105000e+03\n",
       "mean     7.998170e+04  1.366788e+06    7.527356e+05\n",
       "std      4.243630e+05  3.130100e+07    1.621481e+07\n",
       "min     -1.138100e+04  1.400000e+01    0.000000e+00\n",
       "25%      3.161000e+03  1.791900e+04    1.462800e+04\n",
       "50%      1.130400e+04  5.544800e+04    4.950400e+04\n",
       "75%      4.289825e+04  1.974420e+05    1.750100e+05\n",
       "max      1.610000e+07  1.471631e+09    9.546776e+08"
      ]
     },
     "execution_count": 38,
     "metadata": {},
     "output_type": "execute_result"
    }
   ],
   "source": [
    "#Descriptive Statistics of original dataframe\n",
    "df_wrangled.describe()"
   ]
  },
  {
   "cell_type": "code",
   "execution_count": 39,
   "id": "3ebd8172",
   "metadata": {},
   "outputs": [
    {
     "data": {
      "text/html": [
       "<div>\n",
       "<style scoped>\n",
       "    .dataframe tbody tr th:only-of-type {\n",
       "        vertical-align: middle;\n",
       "    }\n",
       "\n",
       "    .dataframe tbody tr th {\n",
       "        vertical-align: top;\n",
       "    }\n",
       "\n",
       "    .dataframe thead th {\n",
       "        text-align: right;\n",
       "    }\n",
       "</style>\n",
       "<table border=\"1\" class=\"dataframe\">\n",
       "  <thead>\n",
       "    <tr style=\"text-align: right;\">\n",
       "      <th></th>\n",
       "      <th>Estimated Loss</th>\n",
       "      <th>Total Assets</th>\n",
       "      <th>Total Deposits</th>\n",
       "    </tr>\n",
       "  </thead>\n",
       "  <tbody>\n",
       "    <tr>\n",
       "      <th>count</th>\n",
       "      <td>3.468000e+03</td>\n",
       "      <td>3.468000e+03</td>\n",
       "      <td>3.468000e+03</td>\n",
       "    </tr>\n",
       "    <tr>\n",
       "      <th>mean</th>\n",
       "      <td>7.998170e+04</td>\n",
       "      <td>5.599016e+05</td>\n",
       "      <td>4.392969e+05</td>\n",
       "    </tr>\n",
       "    <tr>\n",
       "      <th>std</th>\n",
       "      <td>4.243630e+05</td>\n",
       "      <td>6.740647e+06</td>\n",
       "      <td>4.733224e+06</td>\n",
       "    </tr>\n",
       "    <tr>\n",
       "      <th>min</th>\n",
       "      <td>-1.138100e+04</td>\n",
       "      <td>1.731000e+03</td>\n",
       "      <td>0.000000e+00</td>\n",
       "    </tr>\n",
       "    <tr>\n",
       "      <th>25%</th>\n",
       "      <td>3.161000e+03</td>\n",
       "      <td>2.487300e+04</td>\n",
       "      <td>2.445750e+04</td>\n",
       "    </tr>\n",
       "    <tr>\n",
       "      <th>50%</th>\n",
       "      <td>1.130400e+04</td>\n",
       "      <td>6.876950e+04</td>\n",
       "      <td>6.734650e+04</td>\n",
       "    </tr>\n",
       "    <tr>\n",
       "      <th>75%</th>\n",
       "      <td>4.289825e+04</td>\n",
       "      <td>2.203200e+05</td>\n",
       "      <td>2.053102e+05</td>\n",
       "    </tr>\n",
       "    <tr>\n",
       "      <th>max</th>\n",
       "      <td>1.610000e+07</td>\n",
       "      <td>3.070216e+08</td>\n",
       "      <td>1.882608e+08</td>\n",
       "    </tr>\n",
       "  </tbody>\n",
       "</table>\n",
       "</div>"
      ],
      "text/plain": [
       "       Estimated Loss  Total Assets  Total Deposits\n",
       "count    3.468000e+03  3.468000e+03    3.468000e+03\n",
       "mean     7.998170e+04  5.599016e+05    4.392969e+05\n",
       "std      4.243630e+05  6.740647e+06    4.733224e+06\n",
       "min     -1.138100e+04  1.731000e+03    0.000000e+00\n",
       "25%      3.161000e+03  2.487300e+04    2.445750e+04\n",
       "50%      1.130400e+04  6.876950e+04    6.734650e+04\n",
       "75%      4.289825e+04  2.203200e+05    2.053102e+05\n",
       "max      1.610000e+07  3.070216e+08    1.882608e+08"
      ]
     },
     "execution_count": 39,
     "metadata": {},
     "output_type": "execute_result"
    }
   ],
   "source": [
    "#Descriptive statistics of dataframe with removed rows\n",
    "df_wrangled_clean.describe()"
   ]
  },
  {
   "cell_type": "code",
   "execution_count": 40,
   "id": "0bd21160",
   "metadata": {},
   "outputs": [
    {
     "data": {
      "text/html": [
       "<div>\n",
       "<style scoped>\n",
       "    .dataframe tbody tr th:only-of-type {\n",
       "        vertical-align: middle;\n",
       "    }\n",
       "\n",
       "    .dataframe tbody tr th {\n",
       "        vertical-align: top;\n",
       "    }\n",
       "\n",
       "    .dataframe thead th {\n",
       "        text-align: right;\n",
       "    }\n",
       "</style>\n",
       "<table border=\"1\" class=\"dataframe\">\n",
       "  <thead>\n",
       "    <tr style=\"text-align: right;\">\n",
       "      <th></th>\n",
       "      <th>Total Assets</th>\n",
       "      <th>Total Deposits</th>\n",
       "    </tr>\n",
       "  </thead>\n",
       "  <tbody>\n",
       "    <tr>\n",
       "      <th>count</th>\n",
       "      <td>3.952000e+03</td>\n",
       "      <td>3.952000e+03</td>\n",
       "    </tr>\n",
       "    <tr>\n",
       "      <th>mean</th>\n",
       "      <td>1.366805e+06</td>\n",
       "      <td>7.816821e+05</td>\n",
       "    </tr>\n",
       "    <tr>\n",
       "      <th>std</th>\n",
       "      <td>3.130496e+07</td>\n",
       "      <td>1.652510e+07</td>\n",
       "    </tr>\n",
       "    <tr>\n",
       "      <th>min</th>\n",
       "      <td>1.400000e+01</td>\n",
       "      <td>0.000000e+00</td>\n",
       "    </tr>\n",
       "    <tr>\n",
       "      <th>25%</th>\n",
       "      <td>1.791875e+04</td>\n",
       "      <td>1.685550e+04</td>\n",
       "    </tr>\n",
       "    <tr>\n",
       "      <th>50%</th>\n",
       "      <td>5.544050e+04</td>\n",
       "      <td>5.404050e+04</td>\n",
       "    </tr>\n",
       "    <tr>\n",
       "      <th>75%</th>\n",
       "      <td>1.967265e+05</td>\n",
       "      <td>1.827685e+05</td>\n",
       "    </tr>\n",
       "    <tr>\n",
       "      <th>max</th>\n",
       "      <td>1.471631e+09</td>\n",
       "      <td>9.546776e+08</td>\n",
       "    </tr>\n",
       "  </tbody>\n",
       "</table>\n",
       "</div>"
      ],
      "text/plain": [
       "       Total Assets  Total Deposits\n",
       "count  3.952000e+03    3.952000e+03\n",
       "mean   1.366805e+06    7.816821e+05\n",
       "std    3.130496e+07    1.652510e+07\n",
       "min    1.400000e+01    0.000000e+00\n",
       "25%    1.791875e+04    1.685550e+04\n",
       "50%    5.544050e+04    5.404050e+04\n",
       "75%    1.967265e+05    1.827685e+05\n",
       "max    1.471631e+09    9.546776e+08"
      ]
     },
     "execution_count": 40,
     "metadata": {},
     "output_type": "execute_result"
    }
   ],
   "source": [
    "#Descriptive statistics of dataframe with Estimated Loss column removed\n",
    "df_clean.describe()"
   ]
  },
  {
   "cell_type": "markdown",
   "id": "125861f3",
   "metadata": {},
   "source": [
    "## 5. Exporting Data"
   ]
  },
  {
   "cell_type": "code",
   "execution_count": 41,
   "id": "2384c5af",
   "metadata": {},
   "outputs": [],
   "source": [
    "#Export df with missing values\n",
    "df_wrangled.to_csv(os.path.join(path, 'Datasets', 'Prepared Data', 'DS8_BankSuite_Failures_1934-2023.csv'))"
   ]
  },
  {
   "cell_type": "code",
   "execution_count": 42,
   "id": "d2640ea0",
   "metadata": {},
   "outputs": [],
   "source": [
    "#export df with any rows with missing values removed\n",
    "df_wrangled_clean.to_csv(os.path.join(path, 'Datasets', 'Prepared Data', 'DS8_BankSuite_Failures_1934-2023_clean.csv'))"
   ]
  },
  {
   "cell_type": "code",
   "execution_count": 43,
   "id": "7dc2883e",
   "metadata": {},
   "outputs": [],
   "source": [
    "#export df with Estimated Loss column removed\n",
    "df_clean.to_csv(os.path.join(path, 'Datasets', 'Prepared Data', 'DS8_BankSuite_Failures_1934-2023_EL_removed.csv'))"
   ]
  },
  {
   "cell_type": "markdown",
   "id": "f62e46a5",
   "metadata": {},
   "source": [
    "### NOTE: The dataframe being used will be the df_wrangled_clean, where all rows with missing values have been removed.  As there is no way to retrieve the missing data for those values and using the mean/median values will not make sense for many of those institutions, it's been decided that removing those from the dataset would be best in order to maintain consistency for the values that we do have.\n",
    "\n",
    "### The other exported dataframes will be kept on file should it be prudent to go back and use that information for purposes in the future."
   ]
  },
  {
   "cell_type": "code",
   "execution_count": null,
   "id": "ce008781",
   "metadata": {},
   "outputs": [],
   "source": []
  }
 ],
 "metadata": {
  "kernelspec": {
   "display_name": "Python 3 (ipykernel)",
   "language": "python",
   "name": "python3"
  },
  "language_info": {
   "codemirror_mode": {
    "name": "ipython",
    "version": 3
   },
   "file_extension": ".py",
   "mimetype": "text/x-python",
   "name": "python",
   "nbconvert_exporter": "python",
   "pygments_lexer": "ipython3",
   "version": "3.10.9"
  }
 },
 "nbformat": 4,
 "nbformat_minor": 5
}
