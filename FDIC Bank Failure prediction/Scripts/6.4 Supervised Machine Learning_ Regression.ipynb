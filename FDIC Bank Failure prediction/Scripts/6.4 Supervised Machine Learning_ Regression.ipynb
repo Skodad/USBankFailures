{
 "cells": [
  {
   "cell_type": "markdown",
   "id": "e56d7197",
   "metadata": {},
   "source": [
    "# 6.4 Supervised Machine Learning: Regression"
   ]
  },
  {
   "cell_type": "markdown",
   "id": "24e013b4",
   "metadata": {},
   "source": [
    "#### Table of Contents"
   ]
  },
  {
   "cell_type": "markdown",
   "id": "dcb7bb7c",
   "metadata": {},
   "source": [
    "### 1. Importing Libraries"
   ]
  },
  {
   "cell_type": "markdown",
   "id": "926ab6b5",
   "metadata": {},
   "source": [
    "### 2. Importing Data and Data Cleaning"
   ]
  },
  {
   "cell_type": "markdown",
   "id": "9cc5256b",
   "metadata": {},
   "source": [
    "### 3. Data Exploration: Scatterplots"
   ]
  },
  {
   "cell_type": "markdown",
   "id": "03066179",
   "metadata": {},
   "source": [
    "### 4. Hypothesis"
   ]
  },
  {
   "cell_type": "markdown",
   "id": "e7e6ba61",
   "metadata": {},
   "source": [
    "### 5. Reshape the variables into Arrays: X = Independent, Y = Dependant"
   ]
  },
  {
   "cell_type": "markdown",
   "id": "bfd36c21",
   "metadata": {},
   "source": [
    "### 6. Split the Data into Two Sets: Training Set & Test Set"
   ]
  },
  {
   "cell_type": "markdown",
   "id": "3d7f0177",
   "metadata": {},
   "source": [
    "### 7. Linear Regression"
   ]
  },
  {
   "cell_type": "markdown",
   "id": "add692b3",
   "metadata": {},
   "source": [
    "#### 7a. Fitting the Model to the Training Set"
   ]
  },
  {
   "cell_type": "markdown",
   "id": "407e2e91",
   "metadata": {},
   "source": [
    "#### 7b. Create a Prediction for Y on the Test Set"
   ]
  },
  {
   "cell_type": "markdown",
   "id": "7497bcaa",
   "metadata": {},
   "source": [
    "### 8. Create a Plot for Regression on the Test Set"
   ]
  },
  {
   "cell_type": "markdown",
   "id": "5b6de3a4",
   "metadata": {},
   "source": [
    "### 9. Regression Interpretation"
   ]
  },
  {
   "cell_type": "markdown",
   "id": "3b4f0c0b",
   "metadata": {},
   "source": [
    "### 10. Model Summary Statistics"
   ]
  },
  {
   "cell_type": "markdown",
   "id": "801b1ed8",
   "metadata": {},
   "source": [
    "### 11. Create Comparison DataFrame: Actual vs. Predicted"
   ]
  },
  {
   "cell_type": "markdown",
   "id": "38ead6d2",
   "metadata": {},
   "source": [
    "### 12. Reflections"
   ]
  },
  {
   "cell_type": "markdown",
   "id": "09a32e49",
   "metadata": {},
   "source": [
    "### Bonus: Removing Outliers for further Analysis"
   ]
  },
  {
   "cell_type": "markdown",
   "id": "e2dc9dd7",
   "metadata": {},
   "source": [
    "## 1. Importing Libraries"
   ]
  },
  {
   "cell_type": "code",
   "execution_count": 2,
   "id": "414f48b6",
   "metadata": {},
   "outputs": [],
   "source": [
    "import pandas as pd\n",
    "import numpy as np\n",
    "import seaborn as sns\n",
    "import matplotlib\n",
    "import matplotlib.pyplot as plt\n",
    "import os\n",
    "import sklearn\n",
    "from sklearn.model_selection import train_test_split \n",
    "from sklearn.linear_model import LinearRegression\n",
    "from sklearn.metrics import mean_squared_error, r2_score"
   ]
  },
  {
   "cell_type": "code",
   "execution_count": 3,
   "id": "9c42bed6",
   "metadata": {},
   "outputs": [],
   "source": [
    "#Pathway to the Dataframes\n",
    "path = r'C:\\Users\\Dallas\\Desktop\\Data Analyst - Projects\\Data Immersion\\Data Immersion A6\\FDIC Bank Failure prediction'"
   ]
  },
  {
   "cell_type": "code",
   "execution_count": 4,
   "id": "fcf7ef65",
   "metadata": {},
   "outputs": [],
   "source": [
    "# This command propts matplotlib visuals to appear in the notebook \n",
    "%matplotlib inline"
   ]
  },
  {
   "cell_type": "markdown",
   "id": "ab45fe9f",
   "metadata": {},
   "source": [
    "## 2. Importing Data and Data Cleaning"
   ]
  },
  {
   "cell_type": "code",
   "execution_count": 5,
   "id": "e6430da2",
   "metadata": {},
   "outputs": [],
   "source": [
    "#Importing prepared dataset\n",
    "df = pd.read_csv(os.path.join(path, 'Datasets', 'Prepared Data', 'DS8_BankSuite_Failures_1934-2023_clean.csv'), index_col = False)"
   ]
  },
  {
   "cell_type": "code",
   "execution_count": 6,
   "id": "6d927bf8",
   "metadata": {},
   "outputs": [
    {
     "data": {
      "text/html": [
       "<div>\n",
       "<style scoped>\n",
       "    .dataframe tbody tr th:only-of-type {\n",
       "        vertical-align: middle;\n",
       "    }\n",
       "\n",
       "    .dataframe tbody tr th {\n",
       "        vertical-align: top;\n",
       "    }\n",
       "\n",
       "    .dataframe thead th {\n",
       "        text-align: right;\n",
       "    }\n",
       "</style>\n",
       "<table border=\"1\" class=\"dataframe\">\n",
       "  <thead>\n",
       "    <tr style=\"text-align: right;\">\n",
       "      <th></th>\n",
       "      <th>Unnamed: 0</th>\n",
       "      <th>Certification</th>\n",
       "      <th>Charter Class</th>\n",
       "      <th>City</th>\n",
       "      <th>State</th>\n",
       "      <th>Estimated Loss</th>\n",
       "      <th>Failure Date</th>\n",
       "      <th>FIN</th>\n",
       "      <th>ID</th>\n",
       "      <th>Bank Name</th>\n",
       "      <th>Total Assets</th>\n",
       "      <th>Total Deposits</th>\n",
       "      <th>Resolution</th>\n",
       "      <th>Transaction Type</th>\n",
       "      <th>Insurance Fund</th>\n",
       "    </tr>\n",
       "  </thead>\n",
       "  <tbody>\n",
       "    <tr>\n",
       "      <th>0</th>\n",
       "      <td>1</td>\n",
       "      <td>57053</td>\n",
       "      <td>NM</td>\n",
       "      <td>NEW YORK</td>\n",
       "      <td>NY</td>\n",
       "      <td>2400000</td>\n",
       "      <td>2023-03-12</td>\n",
       "      <td>10540</td>\n",
       "      <td>4106</td>\n",
       "      <td>SIGNATURE BANK</td>\n",
       "      <td>110363650.0</td>\n",
       "      <td>88612911.0</td>\n",
       "      <td>FAILURE</td>\n",
       "      <td>PA</td>\n",
       "      <td>DIF</td>\n",
       "    </tr>\n",
       "    <tr>\n",
       "      <th>1</th>\n",
       "      <td>2</td>\n",
       "      <td>24735</td>\n",
       "      <td>SM</td>\n",
       "      <td>SANTA CLARA</td>\n",
       "      <td>CA</td>\n",
       "      <td>16100000</td>\n",
       "      <td>2023-03-07</td>\n",
       "      <td>10539</td>\n",
       "      <td>4105</td>\n",
       "      <td>SILICON VALLEY BANK</td>\n",
       "      <td>209026000.0</td>\n",
       "      <td>175378000.0</td>\n",
       "      <td>FAILURE</td>\n",
       "      <td>PA</td>\n",
       "      <td>DIF</td>\n",
       "    </tr>\n",
       "    <tr>\n",
       "      <th>2</th>\n",
       "      <td>3</td>\n",
       "      <td>15426</td>\n",
       "      <td>NM</td>\n",
       "      <td>ALMENA</td>\n",
       "      <td>KS</td>\n",
       "      <td>16330</td>\n",
       "      <td>2020-10-23</td>\n",
       "      <td>10538</td>\n",
       "      <td>4104</td>\n",
       "      <td>ALMENA STATE BANK</td>\n",
       "      <td>65733.0</td>\n",
       "      <td>64941.0</td>\n",
       "      <td>FAILURE</td>\n",
       "      <td>PA</td>\n",
       "      <td>DIF</td>\n",
       "    </tr>\n",
       "    <tr>\n",
       "      <th>3</th>\n",
       "      <td>4</td>\n",
       "      <td>16748</td>\n",
       "      <td>NM</td>\n",
       "      <td>FORT WALTON BEACH</td>\n",
       "      <td>FL</td>\n",
       "      <td>7247</td>\n",
       "      <td>2020-10-16</td>\n",
       "      <td>10537</td>\n",
       "      <td>4103</td>\n",
       "      <td>FIRST CITY BANK OF FLORIDA</td>\n",
       "      <td>136566.0</td>\n",
       "      <td>133936.0</td>\n",
       "      <td>FAILURE</td>\n",
       "      <td>PA</td>\n",
       "      <td>DIF</td>\n",
       "    </tr>\n",
       "    <tr>\n",
       "      <th>4</th>\n",
       "      <td>5</td>\n",
       "      <td>14361</td>\n",
       "      <td>NM</td>\n",
       "      <td>BARBOURSVILLE</td>\n",
       "      <td>WV</td>\n",
       "      <td>45328</td>\n",
       "      <td>2020-04-03</td>\n",
       "      <td>10536</td>\n",
       "      <td>4102</td>\n",
       "      <td>THE FIRST STATE BANK</td>\n",
       "      <td>151808.0</td>\n",
       "      <td>143102.0</td>\n",
       "      <td>FAILURE</td>\n",
       "      <td>PA</td>\n",
       "      <td>DIF</td>\n",
       "    </tr>\n",
       "  </tbody>\n",
       "</table>\n",
       "</div>"
      ],
      "text/plain": [
       "   Unnamed: 0  Certification Charter Class               City State  \\\n",
       "0           1          57053            NM           NEW YORK    NY   \n",
       "1           2          24735            SM        SANTA CLARA    CA   \n",
       "2           3          15426            NM             ALMENA    KS   \n",
       "3           4          16748            NM  FORT WALTON BEACH    FL   \n",
       "4           5          14361            NM      BARBOURSVILLE    WV   \n",
       "\n",
       "   Estimated Loss Failure Date    FIN    ID                   Bank Name  \\\n",
       "0         2400000   2023-03-12  10540  4106              SIGNATURE BANK   \n",
       "1        16100000   2023-03-07  10539  4105         SILICON VALLEY BANK   \n",
       "2           16330   2020-10-23  10538  4104           ALMENA STATE BANK   \n",
       "3            7247   2020-10-16  10537  4103  FIRST CITY BANK OF FLORIDA   \n",
       "4           45328   2020-04-03  10536  4102        THE FIRST STATE BANK   \n",
       "\n",
       "   Total Assets  Total Deposits Resolution Transaction Type Insurance Fund  \n",
       "0   110363650.0      88612911.0    FAILURE               PA            DIF  \n",
       "1   209026000.0     175378000.0    FAILURE               PA            DIF  \n",
       "2       65733.0         64941.0    FAILURE               PA            DIF  \n",
       "3      136566.0        133936.0    FAILURE               PA            DIF  \n",
       "4      151808.0        143102.0    FAILURE               PA            DIF  "
      ]
     },
     "execution_count": 6,
     "metadata": {},
     "output_type": "execute_result"
    }
   ],
   "source": [
    "#First five rows of dataset\n",
    "df.head()"
   ]
  },
  {
   "cell_type": "markdown",
   "id": "de18465c",
   "metadata": {},
   "source": [
    "##### Data Cleaning"
   ]
  },
  {
   "cell_type": "code",
   "execution_count": 7,
   "id": "f1efb743",
   "metadata": {},
   "outputs": [],
   "source": [
    "#Remove duplicate index column\n",
    "df = df.drop(columns = ['Unnamed: 0'])"
   ]
  },
  {
   "cell_type": "code",
   "execution_count": 8,
   "id": "9b2aa60b",
   "metadata": {},
   "outputs": [
    {
     "data": {
      "text/html": [
       "<div>\n",
       "<style scoped>\n",
       "    .dataframe tbody tr th:only-of-type {\n",
       "        vertical-align: middle;\n",
       "    }\n",
       "\n",
       "    .dataframe tbody tr th {\n",
       "        vertical-align: top;\n",
       "    }\n",
       "\n",
       "    .dataframe thead th {\n",
       "        text-align: right;\n",
       "    }\n",
       "</style>\n",
       "<table border=\"1\" class=\"dataframe\">\n",
       "  <thead>\n",
       "    <tr style=\"text-align: right;\">\n",
       "      <th></th>\n",
       "      <th>Certification</th>\n",
       "      <th>Charter Class</th>\n",
       "      <th>City</th>\n",
       "      <th>State</th>\n",
       "      <th>Estimated Loss</th>\n",
       "      <th>Failure Date</th>\n",
       "      <th>FIN</th>\n",
       "      <th>ID</th>\n",
       "      <th>Bank Name</th>\n",
       "      <th>Total Assets</th>\n",
       "      <th>Total Deposits</th>\n",
       "      <th>Resolution</th>\n",
       "      <th>Transaction Type</th>\n",
       "      <th>Insurance Fund</th>\n",
       "    </tr>\n",
       "  </thead>\n",
       "  <tbody>\n",
       "    <tr>\n",
       "      <th>0</th>\n",
       "      <td>57053</td>\n",
       "      <td>NM</td>\n",
       "      <td>NEW YORK</td>\n",
       "      <td>NY</td>\n",
       "      <td>2400000</td>\n",
       "      <td>2023-03-12</td>\n",
       "      <td>10540</td>\n",
       "      <td>4106</td>\n",
       "      <td>SIGNATURE BANK</td>\n",
       "      <td>110363650.0</td>\n",
       "      <td>88612911.0</td>\n",
       "      <td>FAILURE</td>\n",
       "      <td>PA</td>\n",
       "      <td>DIF</td>\n",
       "    </tr>\n",
       "    <tr>\n",
       "      <th>1</th>\n",
       "      <td>24735</td>\n",
       "      <td>SM</td>\n",
       "      <td>SANTA CLARA</td>\n",
       "      <td>CA</td>\n",
       "      <td>16100000</td>\n",
       "      <td>2023-03-07</td>\n",
       "      <td>10539</td>\n",
       "      <td>4105</td>\n",
       "      <td>SILICON VALLEY BANK</td>\n",
       "      <td>209026000.0</td>\n",
       "      <td>175378000.0</td>\n",
       "      <td>FAILURE</td>\n",
       "      <td>PA</td>\n",
       "      <td>DIF</td>\n",
       "    </tr>\n",
       "    <tr>\n",
       "      <th>2</th>\n",
       "      <td>15426</td>\n",
       "      <td>NM</td>\n",
       "      <td>ALMENA</td>\n",
       "      <td>KS</td>\n",
       "      <td>16330</td>\n",
       "      <td>2020-10-23</td>\n",
       "      <td>10538</td>\n",
       "      <td>4104</td>\n",
       "      <td>ALMENA STATE BANK</td>\n",
       "      <td>65733.0</td>\n",
       "      <td>64941.0</td>\n",
       "      <td>FAILURE</td>\n",
       "      <td>PA</td>\n",
       "      <td>DIF</td>\n",
       "    </tr>\n",
       "    <tr>\n",
       "      <th>3</th>\n",
       "      <td>16748</td>\n",
       "      <td>NM</td>\n",
       "      <td>FORT WALTON BEACH</td>\n",
       "      <td>FL</td>\n",
       "      <td>7247</td>\n",
       "      <td>2020-10-16</td>\n",
       "      <td>10537</td>\n",
       "      <td>4103</td>\n",
       "      <td>FIRST CITY BANK OF FLORIDA</td>\n",
       "      <td>136566.0</td>\n",
       "      <td>133936.0</td>\n",
       "      <td>FAILURE</td>\n",
       "      <td>PA</td>\n",
       "      <td>DIF</td>\n",
       "    </tr>\n",
       "    <tr>\n",
       "      <th>4</th>\n",
       "      <td>14361</td>\n",
       "      <td>NM</td>\n",
       "      <td>BARBOURSVILLE</td>\n",
       "      <td>WV</td>\n",
       "      <td>45328</td>\n",
       "      <td>2020-04-03</td>\n",
       "      <td>10536</td>\n",
       "      <td>4102</td>\n",
       "      <td>THE FIRST STATE BANK</td>\n",
       "      <td>151808.0</td>\n",
       "      <td>143102.0</td>\n",
       "      <td>FAILURE</td>\n",
       "      <td>PA</td>\n",
       "      <td>DIF</td>\n",
       "    </tr>\n",
       "  </tbody>\n",
       "</table>\n",
       "</div>"
      ],
      "text/plain": [
       "   Certification Charter Class               City State  Estimated Loss  \\\n",
       "0          57053            NM           NEW YORK    NY         2400000   \n",
       "1          24735            SM        SANTA CLARA    CA        16100000   \n",
       "2          15426            NM             ALMENA    KS           16330   \n",
       "3          16748            NM  FORT WALTON BEACH    FL            7247   \n",
       "4          14361            NM      BARBOURSVILLE    WV           45328   \n",
       "\n",
       "  Failure Date    FIN    ID                   Bank Name  Total Assets  \\\n",
       "0   2023-03-12  10540  4106              SIGNATURE BANK   110363650.0   \n",
       "1   2023-03-07  10539  4105         SILICON VALLEY BANK   209026000.0   \n",
       "2   2020-10-23  10538  4104           ALMENA STATE BANK       65733.0   \n",
       "3   2020-10-16  10537  4103  FIRST CITY BANK OF FLORIDA      136566.0   \n",
       "4   2020-04-03  10536  4102        THE FIRST STATE BANK      151808.0   \n",
       "\n",
       "   Total Deposits Resolution Transaction Type Insurance Fund  \n",
       "0      88612911.0    FAILURE               PA            DIF  \n",
       "1     175378000.0    FAILURE               PA            DIF  \n",
       "2         64941.0    FAILURE               PA            DIF  \n",
       "3        133936.0    FAILURE               PA            DIF  \n",
       "4        143102.0    FAILURE               PA            DIF  "
      ]
     },
     "execution_count": 8,
     "metadata": {},
     "output_type": "execute_result"
    }
   ],
   "source": [
    "#Confirm removal of column\n",
    "df.head()"
   ]
  },
  {
   "cell_type": "code",
   "execution_count": 9,
   "id": "c0fa64db",
   "metadata": {},
   "outputs": [
    {
     "data": {
      "text/plain": [
       "(3468, 14)"
      ]
     },
     "execution_count": 9,
     "metadata": {},
     "output_type": "execute_result"
    }
   ],
   "source": [
    "df.shape"
   ]
  },
  {
   "cell_type": "code",
   "execution_count": 10,
   "id": "19c30c1e",
   "metadata": {},
   "outputs": [],
   "source": [
    "#Replace \"MAUI, HI\" with \"HI\"\n",
    "df = df.replace(to_replace=\"MAUI, HI\", value=\"HI\")"
   ]
  },
  {
   "cell_type": "markdown",
   "id": "e638a08a",
   "metadata": {},
   "source": [
    "## 3. Data Exploration: Scatterpots"
   ]
  },
  {
   "cell_type": "markdown",
   "id": "1deb1f6b",
   "metadata": {},
   "source": [
    "##### Creating Scatterplot"
   ]
  },
  {
   "cell_type": "code",
   "execution_count": 11,
   "id": "4e6c221e",
   "metadata": {},
   "outputs": [
    {
     "data": {
      "image/png": "[encoded data removed]",
      "text/plain": [
       "<Figure size 640x480 with 1 Axes>"
      ]
     },
     "metadata": {},
     "output_type": "display_data"
    }
   ],
   "source": [
    "#Create a scatterplot using matplotlib for another look at how Estimated Loss and Total Assets plot against each other.\n",
    "df.plot(x = 'Total Assets', y='Estimated Loss',style='o') # The style option creates a scatterplot; without it, we only have lines.\n",
    "plt.title('Estimated Loss vs Total Assets')  \n",
    "plt.xlabel('Total Assets')  \n",
    "plt.ylabel('Estimated Loss')  \n",
    "plt.show()"
   ]
  },
  {
   "cell_type": "markdown",
   "id": "29ef6c31",
   "metadata": {},
   "source": [
    "## 4. Hypothesis"
   ]
  },
  {
   "cell_type": "markdown",
   "id": "48ecaf6a",
   "metadata": {},
   "source": [
    "#### HYPOTHESIS: If a bank owns a greater number of assets, then there will be an equally larger loss experienced by a failed bank."
   ]
  },
  {
   "cell_type": "markdown",
   "id": "97778c6e",
   "metadata": {},
   "source": [
    "## 5. Reshape the variables into Arrays: X = Independent, Y = Dependant"
   ]
  },
  {
   "cell_type": "code",
   "execution_count": 12,
   "id": "8b90dd4d",
   "metadata": {},
   "outputs": [],
   "source": [
    "#Reshape the variables into NumPy arrays and put them into separate objects.\n",
    "X = df['Total Assets'].values.reshape(-1,1)\n",
    "y = df['Estimated Loss'].values.reshape(-1,1)"
   ]
  },
  {
   "cell_type": "code",
   "execution_count": 13,
   "id": "2984d99f",
   "metadata": {},
   "outputs": [
    {
     "data": {
      "text/plain": [
       "array([[1.1036365e+08],\n",
       "       [2.0902600e+08],\n",
       "       [6.5733000e+04],\n",
       "       ...,\n",
       "       [1.2444000e+04],\n",
       "       [3.3184643e+04],\n",
       "       [3.0270000e+03]])"
      ]
     },
     "execution_count": 13,
     "metadata": {},
     "output_type": "execute_result"
    }
   ],
   "source": [
    "#The Independant variable array\n",
    "X"
   ]
  },
  {
   "cell_type": "code",
   "execution_count": 14,
   "id": "6f33ece5",
   "metadata": {},
   "outputs": [
    {
     "data": {
      "text/plain": [
       "array([[ 2400000],\n",
       "       [16100000],\n",
       "       [   16330],\n",
       "       ...,\n",
       "       [     221],\n",
       "       [     127],\n",
       "       [      88]], dtype=int64)"
      ]
     },
     "execution_count": 14,
     "metadata": {},
     "output_type": "execute_result"
    }
   ],
   "source": [
    "#The Dependant variable array\n",
    "y"
   ]
  },
  {
   "cell_type": "markdown",
   "id": "d8fdca6f",
   "metadata": {},
   "source": [
    "## 6. Split the Data into Two Sets: Training Set & Test Set"
   ]
  },
  {
   "cell_type": "code",
   "execution_count": 15,
   "id": "0f5d4c84",
   "metadata": {},
   "outputs": [],
   "source": [
    "#Split data into a training set and a test set.\n",
    "X_train, X_test, y_train, y_test = train_test_split(X, y, test_size=0.3, random_state=0)"
   ]
  },
  {
   "cell_type": "markdown",
   "id": "967d4509",
   "metadata": {},
   "source": [
    "## 7. Linear Regression"
   ]
  },
  {
   "cell_type": "markdown",
   "id": "998bbaf2",
   "metadata": {},
   "source": [
    "### 7a. Fitting the model to the Training Set"
   ]
  },
  {
   "cell_type": "markdown",
   "id": "f3a55d56",
   "metadata": {},
   "source": [
    "##### Model Summary Statistics"
   ]
  },
  {
   "cell_type": "code",
   "execution_count": 16,
   "id": "69a58562",
   "metadata": {},
   "outputs": [],
   "source": [
    "#Create a regression object.\n",
    "regression = LinearRegression()  # This is the regression object, which will be fit onto the training set."
   ]
  },
  {
   "cell_type": "code",
   "execution_count": 17,
   "id": "1f4b1e03",
   "metadata": {},
   "outputs": [
    {
     "data": {
      "text/html": [
       "<style>#sk-container-id-1 {color: black;background-color: white;}#sk-container-id-1 pre{padding: 0;}#sk-container-id-1 div.sk-toggleable {background-color: white;}#sk-container-id-1 label.sk-toggleable__label {cursor: pointer;display: block;width: 100%;margin-bottom: 0;padding: 0.3em;box-sizing: border-box;text-align: center;}#sk-container-id-1 label.sk-toggleable__label-arrow:before {content: \"▸\";float: left;margin-right: 0.25em;color: #696969;}#sk-container-id-1 label.sk-toggleable__label-arrow:hover:before {color: black;}#sk-container-id-1 div.sk-estimator:hover label.sk-toggleable__label-arrow:before {color: black;}#sk-container-id-1 div.sk-toggleable__content {max-height: 0;max-width: 0;overflow: hidden;text-align: left;background-color: #f0f8ff;}#sk-container-id-1 div.sk-toggleable__content pre {margin: 0.2em;color: black;border-radius: 0.25em;background-color: #f0f8ff;}#sk-container-id-1 input.sk-toggleable__control:checked~div.sk-toggleable__content {max-height: 200px;max-width: 100%;overflow: auto;}#sk-container-id-1 input.sk-toggleable__control:checked~label.sk-toggleable__label-arrow:before {content: \"▾\";}#sk-container-id-1 div.sk-estimator input.sk-toggleable__control:checked~label.sk-toggleable__label {background-color: #d4ebff;}#sk-container-id-1 div.sk-label input.sk-toggleable__control:checked~label.sk-toggleable__label {background-color: #d4ebff;}#sk-container-id-1 input.sk-hidden--visually {border: 0;clip: rect(1px 1px 1px 1px);clip: rect(1px, 1px, 1px, 1px);height: 1px;margin: -1px;overflow: hidden;padding: 0;position: absolute;width: 1px;}#sk-container-id-1 div.sk-estimator {font-family: monospace;background-color: #f0f8ff;border: 1px dotted black;border-radius: 0.25em;box-sizing: border-box;margin-bottom: 0.5em;}#sk-container-id-1 div.sk-estimator:hover {background-color: #d4ebff;}#sk-container-id-1 div.sk-parallel-item::after {content: \"\";width: 100%;border-bottom: 1px solid gray;flex-grow: 1;}#sk-container-id-1 div.sk-label:hover label.sk-toggleable__label {background-color: #d4ebff;}#sk-container-id-1 div.sk-serial::before {content: \"\";position: absolute;border-left: 1px solid gray;box-sizing: border-box;top: 0;bottom: 0;left: 50%;z-index: 0;}#sk-container-id-1 div.sk-serial {display: flex;flex-direction: column;align-items: center;background-color: white;padding-right: 0.2em;padding-left: 0.2em;position: relative;}#sk-container-id-1 div.sk-item {position: relative;z-index: 1;}#sk-container-id-1 div.sk-parallel {display: flex;align-items: stretch;justify-content: center;background-color: white;position: relative;}#sk-container-id-1 div.sk-item::before, #sk-container-id-1 div.sk-parallel-item::before {content: \"\";position: absolute;border-left: 1px solid gray;box-sizing: border-box;top: 0;bottom: 0;left: 50%;z-index: -1;}#sk-container-id-1 div.sk-parallel-item {display: flex;flex-direction: column;z-index: 1;position: relative;background-color: white;}#sk-container-id-1 div.sk-parallel-item:first-child::after {align-self: flex-end;width: 50%;}#sk-container-id-1 div.sk-parallel-item:last-child::after {align-self: flex-start;width: 50%;}#sk-container-id-1 div.sk-parallel-item:only-child::after {width: 0;}#sk-container-id-1 div.sk-dashed-wrapped {border: 1px dashed gray;margin: 0 0.4em 0.5em 0.4em;box-sizing: border-box;padding-bottom: 0.4em;background-color: white;}#sk-container-id-1 div.sk-label label {font-family: monospace;font-weight: bold;display: inline-block;line-height: 1.2em;}#sk-container-id-1 div.sk-label-container {text-align: center;}#sk-container-id-1 div.sk-container {/* jupyter's `normalize.less` sets `[hidden] { display: none; }` but bootstrap.min.css set `[hidden] { display: none !important; }` so we also need the `!important` here to be able to override the default hidden behavior on the sphinx rendered scikit-learn.org. See: https://github.com/scikit-learn/scikit-learn/issues/21755 */display: inline-block !important;position: relative;}#sk-container-id-1 div.sk-text-repr-fallback {display: none;}</style><div id=\"sk-container-id-1\" class=\"sk-top-container\"><div class=\"sk-text-repr-fallback\"><pre>LinearRegression()</pre><b>In a Jupyter environment, please rerun this cell to show the HTML representation or trust the notebook. <br />On GitHub, the HTML representation is unable to render, please try loading this page with nbviewer.org.</b></div><div class=\"sk-container\" hidden><div class=\"sk-item\"><div class=\"sk-estimator sk-toggleable\"><input class=\"sk-toggleable__control sk-hidden--visually\" id=\"sk-estimator-id-1\" type=\"checkbox\" checked><label for=\"sk-estimator-id-1\" class=\"sk-toggleable__label sk-toggleable__label-arrow\">LinearRegression</label><div class=\"sk-toggleable__content\"><pre>LinearRegression()</pre></div></div></div></div></div>"
      ],
      "text/plain": [
       "LinearRegression()"
      ]
     },
     "execution_count": 17,
     "metadata": {},
     "output_type": "execute_result"
    }
   ],
   "source": [
    "#Fit the regression object onto the training set.\n",
    "regression.fit(X_train, y_train)"
   ]
  },
  {
   "cell_type": "code",
   "execution_count": 18,
   "id": "a2c85ab7",
   "metadata": {},
   "outputs": [],
   "source": [
    "#Predict.\n",
    "y_predicted_train = regression.predict(X_train) # This is predicting X_train!"
   ]
  },
  {
   "cell_type": "code",
   "execution_count": 19,
   "id": "95d52b18",
   "metadata": {},
   "outputs": [],
   "source": [
    "rmse = mean_squared_error(y_train, y_predicted_train)\n",
    "r2 = r2_score(y_train, y_predicted_train)"
   ]
  },
  {
   "cell_type": "code",
   "execution_count": 20,
   "id": "ac376da7",
   "metadata": {},
   "outputs": [
    {
     "name": "stdout",
     "output_type": "stream",
     "text": [
      "Slope: [[0.00699515]]\n",
      "Mean squared error:  70350907784.20056\n",
      "R2 score:  0.030525252436363504\n"
     ]
    }
   ],
   "source": [
    "print('Slope:' ,regression.coef_)\n",
    "print('Mean squared error: ', rmse)\n",
    "print('R2 score: ', r2)"
   ]
  },
  {
   "cell_type": "markdown",
   "id": "6a67c4bb",
   "metadata": {},
   "source": [
    "##### Plotting the Regression Line"
   ]
  },
  {
   "cell_type": "code",
   "execution_count": 21,
   "id": "97efe4a1",
   "metadata": {},
   "outputs": [
    {
     "data": {
      "image/png": "[encoded data removed]",
      "text/plain": [
       "<Figure size 640x480 with 1 Axes>"
      ]
     },
     "metadata": {},
     "output_type": "display_data"
    }
   ],
   "source": [
    "#Visualizing the training set results.\n",
    "plot_test = plt\n",
    "plot_test.scatter(X_train, y_train, color='green', s = 15)\n",
    "plot_test.plot(X_train, y_predicted_train, color='red', linewidth =3)\n",
    "plot_test.title('Estimated Loss vs Total Assets (Train set)')\n",
    "plot_test.xlabel('Total Assets')\n",
    "plot_test.ylabel('Estimated Loss')\n",
    "plot_test.show()"
   ]
  },
  {
   "cell_type": "markdown",
   "id": "4212a1ec",
   "metadata": {},
   "source": [
    "#### Observations:  It may be worth looking into Logisitic Regression vs. Linear Regression for this dataset to compare the categorical variables."
   ]
  },
  {
   "cell_type": "markdown",
   "id": "b8025dc2",
   "metadata": {},
   "source": [
    "### 7b. Create a Prediction for Y on the Test Set"
   ]
  },
  {
   "cell_type": "code",
   "execution_count": 22,
   "id": "a15c0c8a",
   "metadata": {},
   "outputs": [],
   "source": [
    "#Predict the values of y using X.\n",
    "y_predicted = regression.predict(X_test)"
   ]
  },
  {
   "cell_type": "markdown",
   "id": "cc211ae0",
   "metadata": {},
   "source": [
    "## 8. Create a Plot Showing the Regression on the Test Set"
   ]
  },
  {
   "cell_type": "code",
   "execution_count": 23,
   "id": "5e8f790c",
   "metadata": {},
   "outputs": [
    {
     "data": {
      "image/png": "[encoded data removed]",
      "text/plain": [
       "<Figure size 640x480 with 1 Axes>"
      ]
     },
     "metadata": {},
     "output_type": "display_data"
    }
   ],
   "source": [
    "#Create a plot that shows the regression line from the model on the test set.\n",
    "plot_test = plt\n",
    "plot_test.scatter(X_test, y_test, color='gray', s = 15)\n",
    "plot_test.plot(X_test, y_predicted, color='red', linewidth =3)\n",
    "plot_test.title('Estimated Loss vs Total Assets (Test set)')\n",
    "plot_test.xlabel('Total Assets')\n",
    "plot_test.ylabel('Estimated Loss')\n",
    "plot_test.show()"
   ]
  },
  {
   "cell_type": "markdown",
   "id": "c8acb78f",
   "metadata": {},
   "source": [
    "## 9. Regression Interpretation \n",
    "\n",
    "#### There is a positive correlation between how much loss a bank will experience when considering the number of assets that they had at the time of failure.  However, the correlation is pretty low given the slope of the regression line and the R2 score.  The MSE is quite larege, but this is because of the large number of assets being considered, so doesn't tell us much.   There appear to be a few extreme outliers that may be skewing this data."
   ]
  },
  {
   "cell_type": "markdown",
   "id": "439b9113",
   "metadata": {},
   "source": [
    "## 10. Model Summary Statistics"
   ]
  },
  {
   "cell_type": "code",
   "execution_count": 24,
   "id": "60eccae7",
   "metadata": {},
   "outputs": [],
   "source": [
    "#Create objects that contain the model summary statistics.\n",
    "rmse = mean_squared_error(y_test, y_predicted) # This is the mean squared error\n",
    "r2 = r2_score(y_test, y_predicted) # This is the R2 score. "
   ]
  },
  {
   "cell_type": "code",
   "execution_count": 25,
   "id": "ca02d131",
   "metadata": {},
   "outputs": [
    {
     "name": "stdout",
     "output_type": "stream",
     "text": [
      "Slope: [[0.00699515]]\n",
      "Mean squared error:  380445601474.20667\n",
      "R2 score:  0.11609909110735683\n"
     ]
    }
   ],
   "source": [
    "#Print the model summary statistics. This is where I evaluate the performance of the model.\n",
    "print('Slope:' ,regression.coef_)\n",
    "print('Mean squared error: ', rmse)\n",
    "print('R2 score: ', r2)"
   ]
  },
  {
   "cell_type": "code",
   "execution_count": 26,
   "id": "0dc105df",
   "metadata": {},
   "outputs": [
    {
     "data": {
      "text/plain": [
       "array([[ 72599.53353974],\n",
       "       [249757.61390638],\n",
       "       [ 71874.67532917],\n",
       "       ...,\n",
       "       [ 74746.16255559],\n",
       "       [ 71805.14355907],\n",
       "       [ 72047.73528815]])"
      ]
     },
     "execution_count": 26,
     "metadata": {},
     "output_type": "execute_result"
    }
   ],
   "source": [
    "y_predicted"
   ]
  },
  {
   "cell_type": "markdown",
   "id": "a21720e3",
   "metadata": {},
   "source": [
    "## 11. Creating Comparison Dataframe: Actual vs. Predicted"
   ]
  },
  {
   "cell_type": "code",
   "execution_count": 27,
   "id": "c8656b95",
   "metadata": {},
   "outputs": [
    {
     "data": {
      "text/html": [
       "<div>\n",
       "<style scoped>\n",
       "    .dataframe tbody tr th:only-of-type {\n",
       "        vertical-align: middle;\n",
       "    }\n",
       "\n",
       "    .dataframe tbody tr th {\n",
       "        vertical-align: top;\n",
       "    }\n",
       "\n",
       "    .dataframe thead th {\n",
       "        text-align: right;\n",
       "    }\n",
       "</style>\n",
       "<table border=\"1\" class=\"dataframe\">\n",
       "  <thead>\n",
       "    <tr style=\"text-align: right;\">\n",
       "      <th></th>\n",
       "      <th>Actual</th>\n",
       "      <th>Predicted</th>\n",
       "    </tr>\n",
       "  </thead>\n",
       "  <tbody>\n",
       "    <tr>\n",
       "      <th>0</th>\n",
       "      <td>73814</td>\n",
       "      <td>72599.533540</td>\n",
       "    </tr>\n",
       "    <tr>\n",
       "      <th>1</th>\n",
       "      <td>2414792</td>\n",
       "      <td>249757.613906</td>\n",
       "    </tr>\n",
       "    <tr>\n",
       "      <th>2</th>\n",
       "      <td>3933</td>\n",
       "      <td>71874.675329</td>\n",
       "    </tr>\n",
       "    <tr>\n",
       "      <th>3</th>\n",
       "      <td>829701</td>\n",
       "      <td>83133.456807</td>\n",
       "    </tr>\n",
       "    <tr>\n",
       "      <th>4</th>\n",
       "      <td>8837</td>\n",
       "      <td>71870.212425</td>\n",
       "    </tr>\n",
       "    <tr>\n",
       "      <th>5</th>\n",
       "      <td>2876</td>\n",
       "      <td>72186.057343</td>\n",
       "    </tr>\n",
       "    <tr>\n",
       "      <th>6</th>\n",
       "      <td>78589</td>\n",
       "      <td>72236.100631</td>\n",
       "    </tr>\n",
       "    <tr>\n",
       "      <th>7</th>\n",
       "      <td>48746</td>\n",
       "      <td>72868.496976</td>\n",
       "    </tr>\n",
       "    <tr>\n",
       "      <th>8</th>\n",
       "      <td>8557</td>\n",
       "      <td>72149.948389</td>\n",
       "    </tr>\n",
       "    <tr>\n",
       "      <th>9</th>\n",
       "      <td>33554</td>\n",
       "      <td>72131.138437</td>\n",
       "    </tr>\n",
       "    <tr>\n",
       "      <th>10</th>\n",
       "      <td>451</td>\n",
       "      <td>71717.991011</td>\n",
       "    </tr>\n",
       "    <tr>\n",
       "      <th>11</th>\n",
       "      <td>54383</td>\n",
       "      <td>74472.988040</td>\n",
       "    </tr>\n",
       "    <tr>\n",
       "      <th>12</th>\n",
       "      <td>1161</td>\n",
       "      <td>73342.121967</td>\n",
       "    </tr>\n",
       "    <tr>\n",
       "      <th>13</th>\n",
       "      <td>3811</td>\n",
       "      <td>72569.951059</td>\n",
       "    </tr>\n",
       "    <tr>\n",
       "      <th>14</th>\n",
       "      <td>1857</td>\n",
       "      <td>71867.987968</td>\n",
       "    </tr>\n",
       "    <tr>\n",
       "      <th>15</th>\n",
       "      <td>14250</td>\n",
       "      <td>72262.955004</td>\n",
       "    </tr>\n",
       "    <tr>\n",
       "      <th>16</th>\n",
       "      <td>6052</td>\n",
       "      <td>71913.162633</td>\n",
       "    </tr>\n",
       "    <tr>\n",
       "      <th>17</th>\n",
       "      <td>5522</td>\n",
       "      <td>71822.617439</td>\n",
       "    </tr>\n",
       "    <tr>\n",
       "      <th>18</th>\n",
       "      <td>10374</td>\n",
       "      <td>72236.513344</td>\n",
       "    </tr>\n",
       "    <tr>\n",
       "      <th>19</th>\n",
       "      <td>69917</td>\n",
       "      <td>72746.424650</td>\n",
       "    </tr>\n",
       "    <tr>\n",
       "      <th>20</th>\n",
       "      <td>29593</td>\n",
       "      <td>73320.551414</td>\n",
       "    </tr>\n",
       "    <tr>\n",
       "      <th>21</th>\n",
       "      <td>79709</td>\n",
       "      <td>72876.261591</td>\n",
       "    </tr>\n",
       "    <tr>\n",
       "      <th>22</th>\n",
       "      <td>0</td>\n",
       "      <td>81202.851948</td>\n",
       "    </tr>\n",
       "    <tr>\n",
       "      <th>23</th>\n",
       "      <td>2739</td>\n",
       "      <td>71850.199307</td>\n",
       "    </tr>\n",
       "    <tr>\n",
       "      <th>24</th>\n",
       "      <td>1236</td>\n",
       "      <td>71724.741329</td>\n",
       "    </tr>\n",
       "    <tr>\n",
       "      <th>25</th>\n",
       "      <td>6341</td>\n",
       "      <td>72033.765978</td>\n",
       "    </tr>\n",
       "    <tr>\n",
       "      <th>26</th>\n",
       "      <td>72906</td>\n",
       "      <td>74021.898933</td>\n",
       "    </tr>\n",
       "    <tr>\n",
       "      <th>27</th>\n",
       "      <td>18936</td>\n",
       "      <td>73354.442906</td>\n",
       "    </tr>\n",
       "    <tr>\n",
       "      <th>28</th>\n",
       "      <td>2475</td>\n",
       "      <td>71812.047770</td>\n",
       "    </tr>\n",
       "    <tr>\n",
       "      <th>29</th>\n",
       "      <td>4545</td>\n",
       "      <td>72006.331008</td>\n",
       "    </tr>\n",
       "  </tbody>\n",
       "</table>\n",
       "</div>"
      ],
      "text/plain": [
       "     Actual      Predicted\n",
       "0     73814   72599.533540\n",
       "1   2414792  249757.613906\n",
       "2      3933   71874.675329\n",
       "3    829701   83133.456807\n",
       "4      8837   71870.212425\n",
       "5      2876   72186.057343\n",
       "6     78589   72236.100631\n",
       "7     48746   72868.496976\n",
       "8      8557   72149.948389\n",
       "9     33554   72131.138437\n",
       "10      451   71717.991011\n",
       "11    54383   74472.988040\n",
       "12     1161   73342.121967\n",
       "13     3811   72569.951059\n",
       "14     1857   71867.987968\n",
       "15    14250   72262.955004\n",
       "16     6052   71913.162633\n",
       "17     5522   71822.617439\n",
       "18    10374   72236.513344\n",
       "19    69917   72746.424650\n",
       "20    29593   73320.551414\n",
       "21    79709   72876.261591\n",
       "22        0   81202.851948\n",
       "23     2739   71850.199307\n",
       "24     1236   71724.741329\n",
       "25     6341   72033.765978\n",
       "26    72906   74021.898933\n",
       "27    18936   73354.442906\n",
       "28     2475   71812.047770\n",
       "29     4545   72006.331008"
      ]
     },
     "execution_count": 27,
     "metadata": {},
     "output_type": "execute_result"
    }
   ],
   "source": [
    "#Create a dataframe comparing the actual and predicted values of y.\n",
    "data = pd.DataFrame({'Actual': y_test.flatten(), 'Predicted': y_predicted.flatten()})\n",
    "data.head(30)"
   ]
  },
  {
   "cell_type": "markdown",
   "id": "ad161b73",
   "metadata": {},
   "source": [
    "## 12. Reflections \n",
    "\n",
    "#### Observations:  The predictive model did not perform very well given the large differences in the actual vs predicitve statistics.  It might be worth noting again the few outliers that may be skewing the data.  There is also consideration for the failed banks that were not included pre-1980 as there was no information on the Estimated losses for those banks.  There could be significant differences in the time periods for pre- and post- 1980 that may have affected the results, however we cannot know that definitively.  All we can see is that this model oes not do a good job predicting Estimated losses based on Total Assets for failed banks post 1980.\n",
    "\n",
    "#### I find it highly unlikely that the FDIC had incorrectly recorded the information as it is a federal database.  There could be a sample bias, as this list only shows failed banks and failed banks may come in many shapes and forms depending on location, whether they are commercial or Savings Institutions, whether there was a large economic condition that resulted in certain banks failing in a given year depending on asset type (which this dataset does not include; Asset type or Deposit Type could help narrow down why this trend is the way it is).  We may simply need more information with a larger sample set to determine this, however, for that to happen we would either need to have the missing information pre-1980 or have more banks fail (which we wouldn't want for real life reasons).  We could have an exclusion bias, as we are not including banks pre-1980 gien that Estimated losses were not provided.  \n",
    "\n",
    "#### I think if we could include more specific financial information for these failed banks we could see a more definitive picture, or at the very least have more to work with.  Another comparison worth looking into could be comparing all financial institutions to the failed banks based on their commercial status and location (State) during the year the failed.  This may shed some light on why these banks failed where others didn't and be a more apple-to-apple comparison."
   ]
  },
  {
   "cell_type": "markdown",
   "id": "2e7d6a94",
   "metadata": {},
   "source": [
    "## Bonus: Removing Outliers for Further Analysis"
   ]
  },
  {
   "cell_type": "markdown",
   "id": "f0c7544e",
   "metadata": {},
   "source": [
    "##### Describing the Dataframe"
   ]
  },
  {
   "cell_type": "code",
   "execution_count": 28,
   "id": "968a961d",
   "metadata": {},
   "outputs": [
    {
     "data": {
      "text/html": [
       "<div>\n",
       "<style scoped>\n",
       "    .dataframe tbody tr th:only-of-type {\n",
       "        vertical-align: middle;\n",
       "    }\n",
       "\n",
       "    .dataframe tbody tr th {\n",
       "        vertical-align: top;\n",
       "    }\n",
       "\n",
       "    .dataframe thead th {\n",
       "        text-align: right;\n",
       "    }\n",
       "</style>\n",
       "<table border=\"1\" class=\"dataframe\">\n",
       "  <thead>\n",
       "    <tr style=\"text-align: right;\">\n",
       "      <th></th>\n",
       "      <th>Certification</th>\n",
       "      <th>Estimated Loss</th>\n",
       "      <th>FIN</th>\n",
       "      <th>ID</th>\n",
       "      <th>Total Assets</th>\n",
       "      <th>Total Deposits</th>\n",
       "    </tr>\n",
       "  </thead>\n",
       "  <tbody>\n",
       "    <tr>\n",
       "      <th>count</th>\n",
       "      <td>3468.000000</td>\n",
       "      <td>3.468000e+03</td>\n",
       "      <td>3468.000000</td>\n",
       "      <td>3468.000000</td>\n",
       "      <td>3.468000e+03</td>\n",
       "      <td>3.468000e+03</td>\n",
       "    </tr>\n",
       "    <tr>\n",
       "      <th>mean</th>\n",
       "      <td>24607.085928</td>\n",
       "      <td>7.998170e+04</td>\n",
       "      <td>4926.396482</td>\n",
       "      <td>2352.544983</td>\n",
       "      <td>5.599016e+05</td>\n",
       "      <td>4.392969e+05</td>\n",
       "    </tr>\n",
       "    <tr>\n",
       "      <th>std</th>\n",
       "      <td>11685.109468</td>\n",
       "      <td>4.243630e+05</td>\n",
       "      <td>3051.702123</td>\n",
       "      <td>1014.128858</td>\n",
       "      <td>6.740647e+06</td>\n",
       "      <td>4.733224e+06</td>\n",
       "    </tr>\n",
       "    <tr>\n",
       "      <th>min</th>\n",
       "      <td>40.000000</td>\n",
       "      <td>-1.138100e+04</td>\n",
       "      <td>0.000000</td>\n",
       "      <td>563.000000</td>\n",
       "      <td>1.731000e+03</td>\n",
       "      <td>0.000000e+00</td>\n",
       "    </tr>\n",
       "    <tr>\n",
       "      <th>25%</th>\n",
       "      <td>18336.500000</td>\n",
       "      <td>3.161000e+03</td>\n",
       "      <td>2377.750000</td>\n",
       "      <td>1477.750000</td>\n",
       "      <td>2.487300e+04</td>\n",
       "      <td>2.445750e+04</td>\n",
       "    </tr>\n",
       "    <tr>\n",
       "      <th>50%</th>\n",
       "      <td>26378.500000</td>\n",
       "      <td>1.130400e+04</td>\n",
       "      <td>4308.500000</td>\n",
       "      <td>2357.500000</td>\n",
       "      <td>6.876950e+04</td>\n",
       "      <td>6.734650e+04</td>\n",
       "    </tr>\n",
       "    <tr>\n",
       "      <th>75%</th>\n",
       "      <td>31014.750000</td>\n",
       "      <td>4.289825e+04</td>\n",
       "      <td>7185.250000</td>\n",
       "      <td>3224.250000</td>\n",
       "      <td>2.203200e+05</td>\n",
       "      <td>2.053102e+05</td>\n",
       "    </tr>\n",
       "    <tr>\n",
       "      <th>max</th>\n",
       "      <td>91189.000000</td>\n",
       "      <td>1.610000e+07</td>\n",
       "      <td>10540.000000</td>\n",
       "      <td>4106.000000</td>\n",
       "      <td>3.070216e+08</td>\n",
       "      <td>1.882608e+08</td>\n",
       "    </tr>\n",
       "  </tbody>\n",
       "</table>\n",
       "</div>"
      ],
      "text/plain": [
       "       Certification  Estimated Loss           FIN           ID  Total Assets  \\\n",
       "count    3468.000000    3.468000e+03   3468.000000  3468.000000  3.468000e+03   \n",
       "mean    24607.085928    7.998170e+04   4926.396482  2352.544983  5.599016e+05   \n",
       "std     11685.109468    4.243630e+05   3051.702123  1014.128858  6.740647e+06   \n",
       "min        40.000000   -1.138100e+04      0.000000   563.000000  1.731000e+03   \n",
       "25%     18336.500000    3.161000e+03   2377.750000  1477.750000  2.487300e+04   \n",
       "50%     26378.500000    1.130400e+04   4308.500000  2357.500000  6.876950e+04   \n",
       "75%     31014.750000    4.289825e+04   7185.250000  3224.250000  2.203200e+05   \n",
       "max     91189.000000    1.610000e+07  10540.000000  4106.000000  3.070216e+08   \n",
       "\n",
       "       Total Deposits  \n",
       "count    3.468000e+03  \n",
       "mean     4.392969e+05  \n",
       "std      4.733224e+06  \n",
       "min      0.000000e+00  \n",
       "25%      2.445750e+04  \n",
       "50%      6.734650e+04  \n",
       "75%      2.053102e+05  \n",
       "max      1.882608e+08  "
      ]
     },
     "execution_count": 28,
     "metadata": {},
     "output_type": "execute_result"
    }
   ],
   "source": [
    "#Original dataframe descriptive statistics\n",
    "df.describe()"
   ]
  },
  {
   "cell_type": "markdown",
   "id": "66397641",
   "metadata": {},
   "source": [
    "##### Defining the Upper Limit to Remove the Outliers"
   ]
  },
  {
   "cell_type": "code",
   "execution_count": 29,
   "id": "d545fdf6",
   "metadata": {},
   "outputs": [],
   "source": [
    "#Clean the extreme values from the \"Total Assets\" variable observed during the consistency checks.\n",
    "df_test = df[df['Total Assets'] <=221000] "
   ]
  },
  {
   "cell_type": "code",
   "execution_count": 30,
   "id": "53e930ab",
   "metadata": {},
   "outputs": [
    {
     "data": {
      "image/png": "[encoded data removed]",
      "text/plain": [
       "<Figure size 640x480 with 1 Axes>"
      ]
     },
     "metadata": {},
     "output_type": "display_data"
    }
   ],
   "source": [
    "#See how the scatterplot looks without outliers.\n",
    "df_test.plot(x = 'Total Assets', y='Estimated Loss', style='o')  \n",
    "plt.title('Estimated Loss vs Total Assets')  \n",
    "plt.xlabel('Total Assets')  \n",
    "plt.ylabel('Estiamted Loss')  \n",
    "plt.show()"
   ]
  },
  {
   "cell_type": "markdown",
   "id": "9a77c569",
   "metadata": {},
   "source": [
    "##### Reshaping the Variablies once again for the Dataframe w/o Extreme Outliers"
   ]
  },
  {
   "cell_type": "code",
   "execution_count": 31,
   "id": "c587e094",
   "metadata": {},
   "outputs": [],
   "source": [
    "#Reshape again.\n",
    "X_2 = df_test['Total Assets'].values.reshape(-1,1)\n",
    "y_2 = df_test['Estimated Loss'].values.reshape(-1,1)"
   ]
  },
  {
   "cell_type": "code",
   "execution_count": 32,
   "id": "96c1715a",
   "metadata": {},
   "outputs": [],
   "source": [
    "X_train_2, X_test_2, y_train_2, y_test_2 = train_test_split(X_2, y_2, test_size=0.3, random_state=0)"
   ]
  },
  {
   "cell_type": "markdown",
   "id": "40b63969",
   "metadata": {},
   "source": [
    "##### Run the Regression line"
   ]
  },
  {
   "cell_type": "code",
   "execution_count": 33,
   "id": "433df3ef",
   "metadata": {},
   "outputs": [
    {
     "data": {
      "text/html": [
       "<style>#sk-container-id-2 {color: black;background-color: white;}#sk-container-id-2 pre{padding: 0;}#sk-container-id-2 div.sk-toggleable {background-color: white;}#sk-container-id-2 label.sk-toggleable__label {cursor: pointer;display: block;width: 100%;margin-bottom: 0;padding: 0.3em;box-sizing: border-box;text-align: center;}#sk-container-id-2 label.sk-toggleable__label-arrow:before {content: \"▸\";float: left;margin-right: 0.25em;color: #696969;}#sk-container-id-2 label.sk-toggleable__label-arrow:hover:before {color: black;}#sk-container-id-2 div.sk-estimator:hover label.sk-toggleable__label-arrow:before {color: black;}#sk-container-id-2 div.sk-toggleable__content {max-height: 0;max-width: 0;overflow: hidden;text-align: left;background-color: #f0f8ff;}#sk-container-id-2 div.sk-toggleable__content pre {margin: 0.2em;color: black;border-radius: 0.25em;background-color: #f0f8ff;}#sk-container-id-2 input.sk-toggleable__control:checked~div.sk-toggleable__content {max-height: 200px;max-width: 100%;overflow: auto;}#sk-container-id-2 input.sk-toggleable__control:checked~label.sk-toggleable__label-arrow:before {content: \"▾\";}#sk-container-id-2 div.sk-estimator input.sk-toggleable__control:checked~label.sk-toggleable__label {background-color: #d4ebff;}#sk-container-id-2 div.sk-label input.sk-toggleable__control:checked~label.sk-toggleable__label {background-color: #d4ebff;}#sk-container-id-2 input.sk-hidden--visually {border: 0;clip: rect(1px 1px 1px 1px);clip: rect(1px, 1px, 1px, 1px);height: 1px;margin: -1px;overflow: hidden;padding: 0;position: absolute;width: 1px;}#sk-container-id-2 div.sk-estimator {font-family: monospace;background-color: #f0f8ff;border: 1px dotted black;border-radius: 0.25em;box-sizing: border-box;margin-bottom: 0.5em;}#sk-container-id-2 div.sk-estimator:hover {background-color: #d4ebff;}#sk-container-id-2 div.sk-parallel-item::after {content: \"\";width: 100%;border-bottom: 1px solid gray;flex-grow: 1;}#sk-container-id-2 div.sk-label:hover label.sk-toggleable__label {background-color: #d4ebff;}#sk-container-id-2 div.sk-serial::before {content: \"\";position: absolute;border-left: 1px solid gray;box-sizing: border-box;top: 0;bottom: 0;left: 50%;z-index: 0;}#sk-container-id-2 div.sk-serial {display: flex;flex-direction: column;align-items: center;background-color: white;padding-right: 0.2em;padding-left: 0.2em;position: relative;}#sk-container-id-2 div.sk-item {position: relative;z-index: 1;}#sk-container-id-2 div.sk-parallel {display: flex;align-items: stretch;justify-content: center;background-color: white;position: relative;}#sk-container-id-2 div.sk-item::before, #sk-container-id-2 div.sk-parallel-item::before {content: \"\";position: absolute;border-left: 1px solid gray;box-sizing: border-box;top: 0;bottom: 0;left: 50%;z-index: -1;}#sk-container-id-2 div.sk-parallel-item {display: flex;flex-direction: column;z-index: 1;position: relative;background-color: white;}#sk-container-id-2 div.sk-parallel-item:first-child::after {align-self: flex-end;width: 50%;}#sk-container-id-2 div.sk-parallel-item:last-child::after {align-self: flex-start;width: 50%;}#sk-container-id-2 div.sk-parallel-item:only-child::after {width: 0;}#sk-container-id-2 div.sk-dashed-wrapped {border: 1px dashed gray;margin: 0 0.4em 0.5em 0.4em;box-sizing: border-box;padding-bottom: 0.4em;background-color: white;}#sk-container-id-2 div.sk-label label {font-family: monospace;font-weight: bold;display: inline-block;line-height: 1.2em;}#sk-container-id-2 div.sk-label-container {text-align: center;}#sk-container-id-2 div.sk-container {/* jupyter's `normalize.less` sets `[hidden] { display: none; }` but bootstrap.min.css set `[hidden] { display: none !important; }` so we also need the `!important` here to be able to override the default hidden behavior on the sphinx rendered scikit-learn.org. See: https://github.com/scikit-learn/scikit-learn/issues/21755 */display: inline-block !important;position: relative;}#sk-container-id-2 div.sk-text-repr-fallback {display: none;}</style><div id=\"sk-container-id-2\" class=\"sk-top-container\"><div class=\"sk-text-repr-fallback\"><pre>LinearRegression()</pre><b>In a Jupyter environment, please rerun this cell to show the HTML representation or trust the notebook. <br />On GitHub, the HTML representation is unable to render, please try loading this page with nbviewer.org.</b></div><div class=\"sk-container\" hidden><div class=\"sk-item\"><div class=\"sk-estimator sk-toggleable\"><input class=\"sk-toggleable__control sk-hidden--visually\" id=\"sk-estimator-id-2\" type=\"checkbox\" checked><label for=\"sk-estimator-id-2\" class=\"sk-toggleable__label sk-toggleable__label-arrow\">LinearRegression</label><div class=\"sk-toggleable__content\"><pre>LinearRegression()</pre></div></div></div></div></div>"
      ],
      "text/plain": [
       "LinearRegression()"
      ]
     },
     "execution_count": 33,
     "metadata": {},
     "output_type": "execute_result"
    }
   ],
   "source": [
    "#Run and fit the regression.\n",
    "regression = LinearRegression()  \n",
    "regression.fit(X_train_2, y_train_2)"
   ]
  },
  {
   "cell_type": "markdown",
   "id": "3cd52129",
   "metadata": {},
   "source": [
    "##### Regression Line: Test Set"
   ]
  },
  {
   "cell_type": "code",
   "execution_count": 34,
   "id": "78194f0f",
   "metadata": {},
   "outputs": [],
   "source": [
    "#Predict.\n",
    "y_predicted_2 = regression.predict(X_test_2)"
   ]
  },
  {
   "cell_type": "code",
   "execution_count": 35,
   "id": "914be3db",
   "metadata": {},
   "outputs": [],
   "source": [
    "rmse = mean_squared_error(y_test_2, y_predicted_2)\n",
    "r2 = r2_score(y_test_2, y_predicted_2)"
   ]
  },
  {
   "cell_type": "code",
   "execution_count": 36,
   "id": "a6b97ff6",
   "metadata": {},
   "outputs": [
    {
     "name": "stdout",
     "output_type": "stream",
     "text": [
      "Slope: [[0.31576945]]\n",
      "Mean squared error:  556729486.3351275\n",
      "R2 score:  0.24957548003807228\n"
     ]
    }
   ],
   "source": [
    "print('Slope:' ,regression.coef_)\n",
    "print('Mean squared error: ', rmse)\n",
    "print('R2 score: ', r2)"
   ]
  },
  {
   "cell_type": "markdown",
   "id": "1719d694",
   "metadata": {},
   "source": [
    "##### Plotting the Regression Line"
   ]
  },
  {
   "cell_type": "code",
   "execution_count": 37,
   "id": "f618d31e",
   "metadata": {},
   "outputs": [
    {
     "data": {
      "image/png": "[encoded data removed]",
      "text/plain": [
       "<Figure size 640x480 with 1 Axes>"
      ]
     },
     "metadata": {},
     "output_type": "display_data"
    }
   ],
   "source": [
    "# Visualizing the test set results.\n",
    "plot_test = plt\n",
    "plot_test.scatter(X_test_2, y_test_2, color='gray', s = 15)\n",
    "plot_test.plot(X_test_2, y_predicted_2, color='red', linewidth =3)\n",
    "plot_test.title('Estimated Loss vs Total Assets (Test set)')\n",
    "plot_test.xlabel('Total Assets')\n",
    "plot_test.ylabel('Estimated Loss')\n",
    "plot_test.show()"
   ]
  },
  {
   "cell_type": "markdown",
   "id": "31e2ac37",
   "metadata": {},
   "source": [
    "##### Creating Comparison Dataframe: Actual vs. Predicted"
   ]
  },
  {
   "cell_type": "code",
   "execution_count": 38,
   "id": "33c474c9",
   "metadata": {},
   "outputs": [
    {
     "data": {
      "text/html": [
       "<div>\n",
       "<style scoped>\n",
       "    .dataframe tbody tr th:only-of-type {\n",
       "        vertical-align: middle;\n",
       "    }\n",
       "\n",
       "    .dataframe tbody tr th {\n",
       "        vertical-align: top;\n",
       "    }\n",
       "\n",
       "    .dataframe thead th {\n",
       "        text-align: right;\n",
       "    }\n",
       "</style>\n",
       "<table border=\"1\" class=\"dataframe\">\n",
       "  <thead>\n",
       "    <tr style=\"text-align: right;\">\n",
       "      <th></th>\n",
       "      <th>Actual</th>\n",
       "      <th>Predicted</th>\n",
       "    </tr>\n",
       "  </thead>\n",
       "  <tbody>\n",
       "    <tr>\n",
       "      <th>0</th>\n",
       "      <td>6273</td>\n",
       "      <td>6007.213698</td>\n",
       "    </tr>\n",
       "    <tr>\n",
       "      <th>1</th>\n",
       "      <td>4492</td>\n",
       "      <td>5155.899251</td>\n",
       "    </tr>\n",
       "    <tr>\n",
       "      <th>2</th>\n",
       "      <td>45596</td>\n",
       "      <td>39402.043825</td>\n",
       "    </tr>\n",
       "    <tr>\n",
       "      <th>3</th>\n",
       "      <td>6797</td>\n",
       "      <td>35808.146626</td>\n",
       "    </tr>\n",
       "    <tr>\n",
       "      <th>4</th>\n",
       "      <td>3756</td>\n",
       "      <td>3203.496718</td>\n",
       "    </tr>\n",
       "    <tr>\n",
       "      <th>5</th>\n",
       "      <td>17620</td>\n",
       "      <td>12775.100402</td>\n",
       "    </tr>\n",
       "    <tr>\n",
       "      <th>6</th>\n",
       "      <td>18485</td>\n",
       "      <td>36857.889336</td>\n",
       "    </tr>\n",
       "    <tr>\n",
       "      <th>7</th>\n",
       "      <td>765</td>\n",
       "      <td>-845.299219</td>\n",
       "    </tr>\n",
       "    <tr>\n",
       "      <th>8</th>\n",
       "      <td>24158</td>\n",
       "      <td>8960.921169</td>\n",
       "    </tr>\n",
       "    <tr>\n",
       "      <th>9</th>\n",
       "      <td>69120</td>\n",
       "      <td>57393.639995</td>\n",
       "    </tr>\n",
       "    <tr>\n",
       "      <th>10</th>\n",
       "      <td>36009</td>\n",
       "      <td>22658.684306</td>\n",
       "    </tr>\n",
       "    <tr>\n",
       "      <th>11</th>\n",
       "      <td>2514</td>\n",
       "      <td>655.552995</td>\n",
       "    </tr>\n",
       "    <tr>\n",
       "      <th>12</th>\n",
       "      <td>3174</td>\n",
       "      <td>2254.925279</td>\n",
       "    </tr>\n",
       "    <tr>\n",
       "      <th>13</th>\n",
       "      <td>2442</td>\n",
       "      <td>3110.344729</td>\n",
       "    </tr>\n",
       "    <tr>\n",
       "      <th>14</th>\n",
       "      <td>2820</td>\n",
       "      <td>4505.729945</td>\n",
       "    </tr>\n",
       "    <tr>\n",
       "      <th>15</th>\n",
       "      <td>19970</td>\n",
       "      <td>17340.179396</td>\n",
       "    </tr>\n",
       "    <tr>\n",
       "      <th>16</th>\n",
       "      <td>8176</td>\n",
       "      <td>28927.971042</td>\n",
       "    </tr>\n",
       "    <tr>\n",
       "      <th>17</th>\n",
       "      <td>2285</td>\n",
       "      <td>5032.433394</td>\n",
       "    </tr>\n",
       "    <tr>\n",
       "      <th>18</th>\n",
       "      <td>7167</td>\n",
       "      <td>8756.934102</td>\n",
       "    </tr>\n",
       "    <tr>\n",
       "      <th>19</th>\n",
       "      <td>19576</td>\n",
       "      <td>16747.795900</td>\n",
       "    </tr>\n",
       "    <tr>\n",
       "      <th>20</th>\n",
       "      <td>2434</td>\n",
       "      <td>5316.310133</td>\n",
       "    </tr>\n",
       "    <tr>\n",
       "      <th>21</th>\n",
       "      <td>7300</td>\n",
       "      <td>7494.803595</td>\n",
       "    </tr>\n",
       "    <tr>\n",
       "      <th>22</th>\n",
       "      <td>0</td>\n",
       "      <td>3600.734691</td>\n",
       "    </tr>\n",
       "    <tr>\n",
       "      <th>23</th>\n",
       "      <td>1365</td>\n",
       "      <td>23492.315664</td>\n",
       "    </tr>\n",
       "    <tr>\n",
       "      <th>24</th>\n",
       "      <td>13093</td>\n",
       "      <td>23872.502086</td>\n",
       "    </tr>\n",
       "    <tr>\n",
       "      <th>25</th>\n",
       "      <td>5882</td>\n",
       "      <td>5078.851504</td>\n",
       "    </tr>\n",
       "    <tr>\n",
       "      <th>26</th>\n",
       "      <td>32751</td>\n",
       "      <td>67885.395867</td>\n",
       "    </tr>\n",
       "    <tr>\n",
       "      <th>27</th>\n",
       "      <td>9770</td>\n",
       "      <td>6398.767821</td>\n",
       "    </tr>\n",
       "    <tr>\n",
       "      <th>28</th>\n",
       "      <td>20977</td>\n",
       "      <td>13827.244222</td>\n",
       "    </tr>\n",
       "    <tr>\n",
       "      <th>29</th>\n",
       "      <td>546</td>\n",
       "      <td>1225.201090</td>\n",
       "    </tr>\n",
       "  </tbody>\n",
       "</table>\n",
       "</div>"
      ],
      "text/plain": [
       "    Actual     Predicted\n",
       "0     6273   6007.213698\n",
       "1     4492   5155.899251\n",
       "2    45596  39402.043825\n",
       "3     6797  35808.146626\n",
       "4     3756   3203.496718\n",
       "5    17620  12775.100402\n",
       "6    18485  36857.889336\n",
       "7      765   -845.299219\n",
       "8    24158   8960.921169\n",
       "9    69120  57393.639995\n",
       "10   36009  22658.684306\n",
       "11    2514    655.552995\n",
       "12    3174   2254.925279\n",
       "13    2442   3110.344729\n",
       "14    2820   4505.729945\n",
       "15   19970  17340.179396\n",
       "16    8176  28927.971042\n",
       "17    2285   5032.433394\n",
       "18    7167   8756.934102\n",
       "19   19576  16747.795900\n",
       "20    2434   5316.310133\n",
       "21    7300   7494.803595\n",
       "22       0   3600.734691\n",
       "23    1365  23492.315664\n",
       "24   13093  23872.502086\n",
       "25    5882   5078.851504\n",
       "26   32751  67885.395867\n",
       "27    9770   6398.767821\n",
       "28   20977  13827.244222\n",
       "29     546   1225.201090"
      ]
     },
     "execution_count": 38,
     "metadata": {},
     "output_type": "execute_result"
    }
   ],
   "source": [
    "data = pd.DataFrame({'Actual': y_test_2.flatten(), 'Predicted': y_predicted_2.flatten()})\n",
    "data.head(30)"
   ]
  },
  {
   "cell_type": "markdown",
   "id": "395254a9",
   "metadata": {},
   "source": [
    "### Observations:  Even after we removed the extreme outliers by making taking only the values that were capped at the Q3 of the IQR, the slope resembles what we had with the outliers in place.  The predicitive model does not do a fair job at predicting what the estimated losses will be.  \n",
    "\n",
    "### There is the presence of an apparent extreme outlier and several points that seem to be resemble outliers as they lay further away from the regression line than most."
   ]
  },
  {
   "cell_type": "code",
   "execution_count": null,
   "id": "930a1bf3",
   "metadata": {},
   "outputs": [],
   "source": []
  }
 ],
 "metadata": {
  "kernelspec": {
   "display_name": "Python 3 (ipykernel)",
   "language": "python",
   "name": "python3"
  },
  "language_info": {
   "codemirror_mode": {
    "name": "ipython",
    "version": 3
   },
   "file_extension": ".py",
   "mimetype": "text/x-python",
   "name": "python",
   "nbconvert_exporter": "python",
   "pygments_lexer": "ipython3",
   "version": "3.10.9"
  }
 },
 "nbformat": 4,
 "nbformat_minor": 5
}
